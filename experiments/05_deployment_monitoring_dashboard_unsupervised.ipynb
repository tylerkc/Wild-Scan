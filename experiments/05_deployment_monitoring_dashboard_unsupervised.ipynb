{
 "cells": [
  {
   "cell_type": "markdown",
   "id": "90610204-b09b-4491-99e6-51b412d31156",
   "metadata": {
    "editable": true,
    "slideshow": {
     "slide_type": ""
    },
    "tags": []
   },
   "source": [
    "# (05) Deployment Pipeline (New Dataset, Unsupervised, no Annotations ONLY)"
   ]
  },
  {
   "cell_type": "code",
   "execution_count": 1,
   "id": "1dde2085-3ead-47e9-a421-76bb7eaa242b",
   "metadata": {
    "execution": {
     "iopub.execute_input": "2025-07-15T13:55:51.317928Z",
     "iopub.status.busy": "2025-07-15T13:55:51.317622Z",
     "iopub.status.idle": "2025-07-15T13:55:53.218918Z",
     "shell.execute_reply": "2025-07-15T13:55:53.218307Z",
     "shell.execute_reply.started": "2025-07-15T13:55:51.317905Z"
    }
   },
   "outputs": [
    {
     "name": "stdout",
     "output_type": "stream",
     "text": [
      "sagemaker.config INFO - Not applying SDK defaults from location: /etc/xdg/sagemaker/config.yaml\n",
      "sagemaker.config INFO - Not applying SDK defaults from location: /home/sagemaker-user/.config/sagemaker/config.yaml\n"
     ]
    }
   ],
   "source": [
    "import boto3\n",
    "import sagemaker\n",
    "from sagemaker import get_execution_role\n",
    "import pandas as pd\n",
    "from datetime import datetime\n",
    "\n",
    "role = get_execution_role()\n",
    "\n",
    "region = boto3.Session().region_name\n",
    "\n",
    "s3_client = boto3.client(\"s3\")\n",
    "sm_client = boto3.client(\"sagemaker\")\n",
    "\n",
    "#sess = sagemaker.Session()\n"
   ]
  },
  {
   "cell_type": "code",
   "execution_count": 2,
   "id": "1c2b6e9d-522c-4433-8de7-5f470572858a",
   "metadata": {
    "execution": {
     "iopub.execute_input": "2025-07-15T13:55:54.552829Z",
     "iopub.status.busy": "2025-07-15T13:55:54.552443Z",
     "iopub.status.idle": "2025-07-15T13:55:54.555798Z",
     "shell.execute_reply": "2025-07-15T13:55:54.555229Z",
     "shell.execute_reply.started": "2025-07-15T13:55:54.552799Z"
    }
   },
   "outputs": [],
   "source": [
    "# Production Pipeline Input Parameters\n",
    "\n",
    "# configure root S3 bucket where everything under the sun, all experiments are stored, during development phase\n",
    "bucket_name = \"aai-590-tmp2\"\n"
   ]
  },
  {
   "cell_type": "code",
   "execution_count": 17,
   "id": "5b4d35af-30af-4aaa-bd9c-82892d9bbf60",
   "metadata": {
    "execution": {
     "iopub.execute_input": "2025-07-15T14:22:57.973449Z",
     "iopub.status.busy": "2025-07-15T14:22:57.973128Z",
     "iopub.status.idle": "2025-07-15T14:22:57.976659Z",
     "shell.execute_reply": "2025-07-15T14:22:57.976081Z",
     "shell.execute_reply.started": "2025-07-15T14:22:57.973429Z"
    }
   },
   "outputs": [],
   "source": [
    "# Configure s3 locations and sagemaker model to use\n",
    "s3_newdata_dir = f's3://{bucket_name}/data_split/train_val/validation2'\n",
    "s3_newdata_csv = f's3://{bucket_name}/data_split/train_val/validation2/val-meta.csv' # used only to extract annotations later\n",
    "s3_newdata_manifest = f's3://{bucket_name}/data_split/train_val/validation2/val-meta.manifest' # should have been generated from datapreprocessing pipeline\n",
    "s3_label_map_uri = f\"s3://{bucket_name}/data_split/train_val/label_mapping.json\""
   ]
  },
  {
   "cell_type": "markdown",
   "id": "f760267e-94d4-45ac-be70-e5827ffd6574",
   "metadata": {},
   "source": [
    "-----\n",
    "## Generate Monthly Ground Truth Data from Production Set"
   ]
  },
  {
   "cell_type": "code",
   "execution_count": null,
   "id": "d3a63083-6092-40bc-8248-c2b03343b18b",
   "metadata": {},
   "outputs": [],
   "source": []
  },
  {
   "cell_type": "code",
   "execution_count": null,
   "id": "55590a5d-eca8-470b-a902-9ad0265fa562",
   "metadata": {},
   "outputs": [],
   "source": [
    "import subprocess\n",
    "import sys\n",
    "import os\n",
    "\n",
    "def get_repo_root():\n",
    "    return subprocess.check_output(['git', 'rev-parse', '--show-toplevel']).decode('utf-8').strip()\n",
    "repo_root = get_repo_root()\n",
    "print(repo_root)\n",
    "\n",
    "src_path = os.path.join(repo_root, 'src')\n",
    "# Add src_path to sys.path if not already present\n",
    "if src_path not in sys.path:\n",
    "    sys.path.insert(0, src_path)"
   ]
  },
  {
   "cell_type": "code",
   "execution_count": null,
   "id": "dabbe7dc-acb3-4977-93dc-0cf0b3848f5c",
   "metadata": {},
   "outputs": [],
   "source": [
    "# try importing src/utils\n",
    "from utils.utils import parse_s3_uri\n",
    "from utils.utils import generate_manifest_file"
   ]
  },
  {
   "cell_type": "markdown",
   "id": "d236e9d6-44c0-48a7-9612-67841f789ea2",
   "metadata": {},
   "source": [
    "----\n",
    "## Design Monitoring Pipeline"
   ]
  },
  {
   "cell_type": "code",
   "execution_count": 4,
   "id": "5447ffb3-aa9f-4638-8675-0d5f6ee3f8d7",
   "metadata": {
    "execution": {
     "iopub.execute_input": "2025-07-15T13:56:01.903192Z",
     "iopub.status.busy": "2025-07-15T13:56:01.902862Z",
     "iopub.status.idle": "2025-07-15T13:56:01.940089Z",
     "shell.execute_reply": "2025-07-15T13:56:01.939613Z",
     "shell.execute_reply.started": "2025-07-15T13:56:01.903171Z"
    }
   },
   "outputs": [],
   "source": [
    "from sagemaker.workflow.pipeline import Pipeline\n",
    "from sagemaker.workflow.parameters import ParameterString\n",
    "from sagemaker.workflow.steps import TransformStep, ProcessingStep\n",
    "from sagemaker.transformer import Transformer\n",
    "from sagemaker.processing import ScriptProcessor, ProcessingInput, ProcessingOutput\n",
    "from sagemaker.workflow.functions import Join\n",
    "from sagemaker.inputs import TransformInput\n",
    "from sagemaker.model import Model\n",
    "from sagemaker import ModelPackage\n",
    "from sagemaker.workflow.model_step import ModelStep\n",
    "from sagemaker.workflow.pipeline_context import PipelineSession"
   ]
  },
  {
   "cell_type": "markdown",
   "id": "cd88224a-9a5f-44e5-9ed3-aa77439af601",
   "metadata": {
    "execution": {
     "iopub.execute_input": "2025-06-23T20:59:14.775273Z",
     "iopub.status.busy": "2025-06-23T20:59:14.774811Z",
     "iopub.status.idle": "2025-06-23T20:59:14.779027Z",
     "shell.execute_reply": "2025-06-23T20:59:14.778205Z",
     "shell.execute_reply.started": "2025-06-23T20:59:14.775244Z"
    }
   },
   "source": [
    "### Pipeline Input Parameters"
   ]
  },
  {
   "cell_type": "code",
   "execution_count": 5,
   "id": "8d0d5c93-bffd-4cc3-981e-ebfd7e3fc49e",
   "metadata": {
    "execution": {
     "iopub.execute_input": "2025-07-15T13:56:18.361874Z",
     "iopub.status.busy": "2025-07-15T13:56:18.361508Z",
     "iopub.status.idle": "2025-07-15T13:56:18.367767Z",
     "shell.execute_reply": "2025-07-15T13:56:18.367225Z",
     "shell.execute_reply.started": "2025-07-15T13:56:18.361849Z"
    }
   },
   "outputs": [
    {
     "data": {
      "text/plain": [
       "'s3://aai-590-tmp2/data_split/train_val/validation2/val-meta.manifest'"
      ]
     },
     "execution_count": 5,
     "metadata": {},
     "output_type": "execute_result"
    }
   ],
   "source": [
    "s3_newdata_manifest"
   ]
  },
  {
   "cell_type": "code",
   "execution_count": 14,
   "id": "e32fcc3f-23d9-460b-a61b-5bd2e3a3ff19",
   "metadata": {
    "execution": {
     "iopub.execute_input": "2025-07-15T14:15:14.867798Z",
     "iopub.status.busy": "2025-07-15T14:15:14.867472Z",
     "iopub.status.idle": "2025-07-15T14:15:14.871168Z",
     "shell.execute_reply": "2025-07-15T14:15:14.870592Z",
     "shell.execute_reply.started": "2025-07-15T14:15:14.867773Z"
    }
   },
   "outputs": [],
   "source": [
    "# Pipeline parameters\n",
    "\n",
    "# s3 uri folder where a csv and manifest file of new images collected in that month are present, with annotations, this is the ground truth folder\n",
    "# and this is where evaluation files are going to be stored\n",
    "\n",
    "s3_new_input_dir = ParameterString(name=\"s3InputDir\", default_value=s3_newdata_dir) # must have manifest file\n",
    "\n",
    "model_package_arn = ParameterString(\n",
    "        name=\"ModelPackageArn\", \n",
    "        default_value = 'arn:aws:sagemaker:us-east-1:324183265896:model-package/wildscan-image-classifier-fixed-locs/1')\n",
    "#pipeline_timestamp = ParameterString(name=\"PipelineTimestamp\",default_value=\"\") # to simulate production set time-series performance on cloudwatch"
   ]
  },
  {
   "cell_type": "markdown",
   "id": "29bf8bb7-7aea-4500-bd9a-c727254e33c4",
   "metadata": {},
   "source": [
    "### Create Model Step "
   ]
  },
  {
   "cell_type": "code",
   "execution_count": 10,
   "id": "b19c0790-c275-4e81-8236-4637b015b463",
   "metadata": {
    "execution": {
     "iopub.execute_input": "2025-07-15T14:04:40.803234Z",
     "iopub.status.busy": "2025-07-15T14:04:40.802656Z",
     "iopub.status.idle": "2025-07-15T14:04:41.172000Z",
     "shell.execute_reply": "2025-07-15T14:04:41.171433Z",
     "shell.execute_reply.started": "2025-07-15T14:04:40.803208Z"
    }
   },
   "outputs": [
    {
     "name": "stderr",
     "output_type": "stream",
     "text": [
      "/opt/conda/lib/python3.12/site-packages/sagemaker/workflow/pipeline_context.py:332: UserWarning: Running within a PipelineSession, there will be No Wait, No Logs, and No Job being started.\n",
      "  warnings.warn(\n"
     ]
    }
   ],
   "source": [
    "# Create Model resource from input model package ARN\n",
    "pipeline_session = PipelineSession()\n",
    "model = ModelPackage(\n",
    "    model_package_arn=model_package_arn.default_value,\n",
    "    role=role,\n",
    "    sagemaker_session=pipeline_session\n",
    ")\n",
    "\n",
    "create_model_step = ModelStep(\n",
    "    name=\"LoadSpecifiedModel\",\n",
    "    step_args=model.create(instance_type=\"ml.m5.large\")\n",
    ")"
   ]
  },
  {
   "cell_type": "markdown",
   "id": "f88fd799-28c0-4913-a5ed-53455f54c75d",
   "metadata": {},
   "source": [
    "### Configure Transformer Step "
   ]
  },
  {
   "cell_type": "code",
   "execution_count": 16,
   "id": "ecf91cfb-de99-45b9-985a-c138dcb621d3",
   "metadata": {
    "execution": {
     "iopub.execute_input": "2025-07-15T14:19:28.302449Z",
     "iopub.status.busy": "2025-07-15T14:19:28.302109Z",
     "iopub.status.idle": "2025-07-15T14:19:28.306820Z",
     "shell.execute_reply": "2025-07-15T14:19:28.306202Z",
     "shell.execute_reply.started": "2025-07-15T14:19:28.302426Z"
    }
   },
   "outputs": [],
   "source": [
    "# set transformer output s3 location\n",
    "s3_transform_out = Join( on='/', values=[s3_new_input_dir, \"batch_transform_out\"])\n",
    "\n",
    "# set manifest file s3 loc\n",
    "s3_manifest_file = Join( on='/', values=[s3_new_input_dir, \"labels.manifest\"])\n",
    "\n",
    "# initialize Tranformer\n",
    "transformer = Transformer(\n",
    "    model_name = create_model_step.properties.ModelName,\n",
    "    instance_count=1,  # Number of instances\n",
    "    instance_type=\"ml.g4dn.xlarge\",  # Instance type\n",
    "    output_path= s3_transform_out,  # Predictions output\n",
    "    max_payload=10,  # Max payload size (MB)\n",
    "    strategy=\"MultiRecord\" , # for faster processing, but in real world, instance type can be ml.m5.xlarge and single record strategy is ok\n",
    "    max_concurrent_transforms=10,\n",
    "    sagemaker_session=pipeline_session,\n",
    "\n",
    "    accept = 'txt/csv', # so output is generated in single file\n",
    "    assemble_with='Line', # new line is generated for each prediction\n",
    "\n",
    ")\n",
    "\n",
    "# configure transformer STep\n",
    "transform_step = TransformStep(\n",
    "    name= 'BatchTransform',\n",
    "    transformer = transformer,\n",
    "    inputs = TransformInput(\n",
    "                data=s3_manifest_file,\n",
    "                data_type='ManifestFile', # provide list of s3uris of objects to be batch transformed\n",
    "                content_type='application/x-image', \n",
    "                split_type='None'\n",
    "            )\n",
    ")"
   ]
  },
  {
   "cell_type": "markdown",
   "id": "0a70115d-3575-4489-bc20-5f388ea1d9d2",
   "metadata": {},
   "source": [
    "### Configure Evaluation Step"
   ]
  },
  {
   "cell_type": "code",
   "execution_count": 18,
   "id": "029771a9-4f43-4259-aec6-6f76ed23a9a0",
   "metadata": {
    "execution": {
     "iopub.execute_input": "2025-07-15T14:23:06.056565Z",
     "iopub.status.busy": "2025-07-15T14:23:06.056232Z",
     "iopub.status.idle": "2025-07-15T14:23:06.101877Z",
     "shell.execute_reply": "2025-07-15T14:23:06.101413Z",
     "shell.execute_reply.started": "2025-07-15T14:23:06.056542Z"
    }
   },
   "outputs": [
    {
     "name": "stderr",
     "output_type": "stream",
     "text": [
      "INFO:sagemaker.image_uris:Defaulting to only supported image scope: cpu.\n"
     ]
    }
   ],
   "source": [
    "# retrieve image_uri for evaluation script processor container\n",
    "image_uri = sagemaker.image_uris.retrieve(\n",
    "    framework='sklearn',        # or 'xgboost', 'pytorch', etc.\n",
    "    region=region,\n",
    "    version='1.2-1',            # Specify the version you need\n",
    "    py_version='py3',           # Specify Python version if required\n",
    "       # Use 'processing' for processing jobs\n",
    ")\n",
    "\n",
    "# Define your processing container (can use a built-in or custom image)\n",
    "evaluation_processor = ScriptProcessor(\n",
    "    command=['python3'],\n",
    "    image_uri=image_uri,  # e.g., a scikit-learn or custom image\n",
    "    role=role,\n",
    "    instance_count=1,\n",
    "    instance_type='ml.m5.xlarge',\n",
    "    \n",
    ")\n",
    "\n",
    "s3_evaluation_out = Join( on='/', values=[s3_new_input_dir, \"evaluation\"])\n",
    "s3_true_meta_uri = Join( on='/', values=[s3_new_input_dir, \"labels.csv\"])\n",
    "\n",
    "# Define the evaluation Processing step\n",
    "evaluation_step = ProcessingStep(\n",
    "    name=\"ModelEvaluation\",\n",
    "    processor=evaluation_processor,\n",
    "    code='../src/evaluation/evaluate.py',  # Your processing script,\n",
    "    \n",
    "    inputs=[\n",
    "        # S3 location of batch transform predictions files\n",
    "        ProcessingInput(\n",
    "            source=transform_step.properties.TransformOutput.S3OutputPath,       # S3 bucket with predictions\n",
    "            destination='/opt/ml/processing/input_predictions'        # Where the script will read input in local container\n",
    "        ),\n",
    "        \n",
    "        # S3 location of the ground truth labels for the images in this set\n",
    "        ProcessingInput(\n",
    "            source=s3_true_meta_uri,\n",
    "            destination='/opt/ml/processing/true_labels'\n",
    "        ),\n",
    "\n",
    "        # Label Mapping\n",
    "        ProcessingInput(\n",
    "            source=s3_label_map_uri,\n",
    "            destination='/opt/ml/processing/label_mapping'\n",
    "        )\n",
    "    ],\n",
    "    \n",
    "    outputs=[\n",
    "        ProcessingOutput(\n",
    "            source='/opt/ml/processing/output',           # Where the script will write output files in local container\n",
    "            destination=s3_evaluation_out    # S3 bucket to store results\n",
    "        )\n",
    "    ]\n",
    ")\n"
   ]
  },
  {
   "cell_type": "markdown",
   "id": "8d33d350-899f-4332-b0b7-93837cc43a6e",
   "metadata": {},
   "source": [
    "-----\n",
    "## Assemble the Pipeline \n",
    "### (add more steps later like Conditional for Continuous D)"
   ]
  },
  {
   "cell_type": "code",
   "execution_count": 19,
   "id": "f747a99f-b53e-402a-b9fb-e00e2513c3eb",
   "metadata": {
    "execution": {
     "iopub.execute_input": "2025-07-15T14:26:50.903904Z",
     "iopub.status.busy": "2025-07-15T14:26:50.903577Z",
     "iopub.status.idle": "2025-07-15T14:26:51.510502Z",
     "shell.execute_reply": "2025-07-15T14:26:51.509935Z",
     "shell.execute_reply.started": "2025-07-15T14:26:50.903882Z"
    }
   },
   "outputs": [
    {
     "name": "stderr",
     "output_type": "stream",
     "text": [
      "WARNING:sagemaker.workflow.utilities:Popping out 'ModelName' from the pipeline definition by default since it will be overridden at pipeline execution time. Please utilize the PipelineDefinitionConfig to persist this field in the pipeline definition if desired.\n",
      "WARNING:sagemaker.workflow.utilities:Popping out 'TransformJobName' from the pipeline definition by default since it will be overridden at pipeline execution time. Please utilize the PipelineDefinitionConfig to persist this field in the pipeline definition if desired.\n",
      "WARNING:sagemaker.workflow.utilities:Popping out 'ProcessingJobName' from the pipeline definition by default since it will be overridden at pipeline execution time. Please utilize the PipelineDefinitionConfig to persist this field in the pipeline definition if desired.\n"
     ]
    },
    {
     "data": {
      "text/plain": [
       "{'PipelineArn': 'arn:aws:sagemaker:us-east-1:324183265896:pipeline/CapstonePipelineTrial',\n",
       " 'ResponseMetadata': {'RequestId': '1ad842dd-cc8b-4ea5-afbc-af693a9f5819',\n",
       "  'HTTPStatusCode': 200,\n",
       "  'HTTPHeaders': {'x-amzn-requestid': '1ad842dd-cc8b-4ea5-afbc-af693a9f5819',\n",
       "   'content-type': 'application/x-amz-json-1.1',\n",
       "   'content-length': '89',\n",
       "   'date': 'Tue, 15 Jul 2025 14:26:51 GMT'},\n",
       "  'RetryAttempts': 0}}"
      ]
     },
     "execution_count": 19,
     "metadata": {},
     "output_type": "execute_result"
    }
   ],
   "source": [
    "pipeline = Pipeline(\n",
    "    name=\"CapstonePipelineTrial\",\n",
    "    parameters=[s3_new_input_dir, model_package_arn],\n",
    "    steps=[create_model_step, transform_step, evaluation_step],\n",
    "    sagemaker_session=pipeline_session\n",
    ")\n",
    "\n",
    "\n",
    "pipeline.upsert(role_arn=role)"
   ]
  },
  {
   "cell_type": "markdown",
   "id": "68471a16-0f15-4bd4-8e42-87abde706c67",
   "metadata": {},
   "source": [
    "-----\n",
    "## Execute Pipeline on Validation Set"
   ]
  },
  {
   "cell_type": "code",
   "execution_count": null,
   "id": "f059b91f-29cf-4cd1-a47a-4cf5b7423d64",
   "metadata": {
    "execution": {
     "iopub.execute_input": "2025-07-15T14:29:01.807317Z",
     "iopub.status.busy": "2025-07-15T14:29:01.806981Z"
    }
   },
   "outputs": [],
   "source": [
    "execution =pipeline.start(parameters={\n",
    "    \"s3InputDir\": f's3://{bucket_name}/data_split/train_val/validation2',\n",
    "    \"ModelPackageArn\": 'arn:aws:sagemaker:us-east-1:324183265896:model-package/wildscan-image-classifier-fixed-locs/1',\n",
    "    \n",
    "})\n",
    "\n",
    "execution.describe()\n",
    "execution.wait()\n"
   ]
  },
  {
   "cell_type": "code",
   "execution_count": null,
   "id": "ee54dbad-06cb-4e7f-9d2c-f2d9151cbd9c",
   "metadata": {},
   "outputs": [],
   "source": []
  }
 ],
 "metadata": {
  "kernelspec": {
   "display_name": "Python 3 (ipykernel)",
   "language": "python",
   "name": "python3"
  },
  "language_info": {
   "codemirror_mode": {
    "name": "ipython",
    "version": 3
   },
   "file_extension": ".py",
   "mimetype": "text/x-python",
   "name": "python",
   "nbconvert_exporter": "python",
   "pygments_lexer": "ipython3",
   "version": "3.12.9"
  }
 },
 "nbformat": 4,
 "nbformat_minor": 5
}
