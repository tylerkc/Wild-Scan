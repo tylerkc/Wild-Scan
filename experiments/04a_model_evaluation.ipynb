{
 "cells": [
  {
   "cell_type": "markdown",
   "id": "8bc7aa58-facf-42a3-a696-ded328a35314",
   "metadata": {},
   "source": [
    "# (04a) MODEL: Evaluation and Baseline Performance"
   ]
  },
  {
   "cell_type": "code",
   "execution_count": 1,
   "id": "406f9653-d376-47fb-9940-4d1d6f44cbb2",
   "metadata": {
    "execution": {
     "iopub.execute_input": "2025-07-14T12:00:53.232109Z",
     "iopub.status.busy": "2025-07-14T12:00:53.231796Z",
     "iopub.status.idle": "2025-07-14T12:00:53.235990Z",
     "shell.execute_reply": "2025-07-14T12:00:53.235467Z",
     "shell.execute_reply.started": "2025-07-14T12:00:53.232084Z"
    }
   },
   "outputs": [],
   "source": [
    "import subprocess\n",
    "import sys\n",
    "import os\n",
    "\n",
    "# Specify the path to the folder containing your module\n",
    "repo_root = '../'\n",
    "\n",
    "src_path = os.path.join(repo_root, 'src')\n",
    "# Add src_path to sys.path if not already present\n",
    "if src_path not in sys.path:\n",
    "    sys.path.insert(0, src_path)"
   ]
  },
  {
   "cell_type": "code",
   "execution_count": 2,
   "id": "76b3f004-3e30-4853-a4a0-af34fa4ebc18",
   "metadata": {
    "execution": {
     "iopub.execute_input": "2025-07-14T12:00:57.065820Z",
     "iopub.status.busy": "2025-07-14T12:00:57.065514Z",
     "iopub.status.idle": "2025-07-14T12:00:57.071275Z",
     "shell.execute_reply": "2025-07-14T12:00:57.070710Z",
     "shell.execute_reply.started": "2025-07-14T12:00:57.065798Z"
    }
   },
   "outputs": [],
   "source": [
    "# try importing src/utils\n",
    "from utils.utils import parse_s3_uri\n",
    "from utils.utils import generate_manifest_file\n"
   ]
  },
  {
   "cell_type": "code",
   "execution_count": 3,
   "id": "92eba0a0-483d-47ef-b8ec-9fe107107b6f",
   "metadata": {
    "execution": {
     "iopub.execute_input": "2025-07-14T12:01:35.440221Z",
     "iopub.status.busy": "2025-07-14T12:01:35.439909Z",
     "iopub.status.idle": "2025-07-14T12:01:37.422745Z",
     "shell.execute_reply": "2025-07-14T12:01:37.422211Z",
     "shell.execute_reply.started": "2025-07-14T12:01:35.440198Z"
    }
   },
   "outputs": [
    {
     "name": "stdout",
     "output_type": "stream",
     "text": [
      "sagemaker.config INFO - Not applying SDK defaults from location: /etc/xdg/sagemaker/config.yaml\n",
      "sagemaker.config INFO - Not applying SDK defaults from location: /home/sagemaker-user/.config/sagemaker/config.yaml\n"
     ]
    }
   ],
   "source": [
    "import boto3\n",
    "import sagemaker\n",
    "from sagemaker import get_execution_role\n",
    "import pandas as pd\n",
    "import json\n",
    "from sagemaker.transformer import Transformer\n",
    "\n",
    "\n",
    "role = get_execution_role()\n",
    "region = boto3.Session().region_name\n",
    "s3_client = boto3.client(\"s3\")\n",
    "sm_client = boto3.client(\"sagemaker\")\n",
    "sess = sagemaker.Session()\n",
    "\n",
    "# project bucket\n",
    "bucket_name = \"aai-590-tmp2\"\n",
    "dev_split = \"data_split/train_val\"\n",
    "\n",
    "# provide s3 full path to label_mapping.json use during training\n",
    "s3_label_map_uri = f\"s3://{bucket_name}/{dev_split}/label_mapping.json\"\n"
   ]
  },
  {
   "cell_type": "code",
   "execution_count": 4,
   "id": "2b79f04e-d60d-4d1a-a6d7-55d6a723f142",
   "metadata": {
    "execution": {
     "iopub.execute_input": "2025-07-14T12:02:12.285085Z",
     "iopub.status.busy": "2025-07-14T12:02:12.284763Z",
     "iopub.status.idle": "2025-07-14T12:02:12.288278Z",
     "shell.execute_reply": "2025-07-14T12:02:12.287732Z",
     "shell.execute_reply.started": "2025-07-14T12:02:12.285063Z"
    }
   },
   "outputs": [],
   "source": [
    "# Load Model Package arn from notebook 03.\n",
    "from sagemaker import ModelPackage\n",
    "# 1. Create Model resource from package ARN\n",
    "model = ModelPackage(\n",
    "    model_package_arn='arn:aws:sagemaker:us-east-1:324183265896:model-package/wildscan-image-classifier-fixed-locs/1',\n",
    "    role=role,\n",
    "    sagemaker_session=sess\n",
    ")"
   ]
  },
  {
   "cell_type": "code",
   "execution_count": 5,
   "id": "1434a74d-d47a-4c1d-94e1-bd16d48607fc",
   "metadata": {
    "execution": {
     "iopub.execute_input": "2025-07-14T12:02:13.796698Z",
     "iopub.status.busy": "2025-07-14T12:02:13.796316Z",
     "iopub.status.idle": "2025-07-14T12:02:14.852841Z",
     "shell.execute_reply": "2025-07-14T12:02:14.852185Z",
     "shell.execute_reply.started": "2025-07-14T12:02:13.796673Z"
    }
   },
   "outputs": [],
   "source": [
    "model.create()"
   ]
  },
  {
   "cell_type": "code",
   "execution_count": 19,
   "id": "cabc3739-d9cb-4192-8fc3-b6c4ef0475bf",
   "metadata": {
    "execution": {
     "iopub.execute_input": "2025-07-11T08:51:00.989452Z",
     "iopub.status.busy": "2025-07-11T08:51:00.989123Z",
     "iopub.status.idle": "2025-07-11T08:51:01.596484Z",
     "shell.execute_reply": "2025-07-11T08:51:01.595868Z",
     "shell.execute_reply.started": "2025-07-11T08:51:00.989433Z"
    }
   },
   "outputs": [
    {
     "name": "stderr",
     "output_type": "stream",
     "text": [
      "/tmp/ipykernel_814/1358237297.py:15: DeprecationWarning: Python 3.14 will, by default, filter extracted tar archives and reject files or modify their metadata. Use the filter argument to control this behavior.\n",
      "  tar.extractall(path=extract_path)\n"
     ]
    },
    {
     "name": "stdout",
     "output_type": "stream",
     "text": [
      "Extracted to: ./model_dir\n"
     ]
    }
   ],
   "source": [
    "download_and_extract_model('s3://aai-590-tmp/sg-ic-transfer-learning/space_time_split/output/image-classification-2025-07-10-13-02-40-529/output/model.tar.gz')"
   ]
  },
  {
   "cell_type": "code",
   "execution_count": 21,
   "id": "09edaf16-d951-45d0-93fe-2d448c7f087b",
   "metadata": {
    "execution": {
     "iopub.execute_input": "2025-07-11T08:59:51.782565Z",
     "iopub.status.busy": "2025-07-11T08:59:51.782194Z",
     "iopub.status.idle": "2025-07-11T08:59:55.587999Z",
     "shell.execute_reply": "2025-07-11T08:59:55.587228Z",
     "shell.execute_reply.started": "2025-07-11T08:59:51.782539Z"
    }
   },
   "outputs": [
    {
     "name": "stdout",
     "output_type": "stream",
     "text": [
      "Collecting mxnet\n",
      "  Downloading mxnet-1.9.1-py3-none-manylinux2014_x86_64.whl.metadata (3.4 kB)\n",
      "Requirement already satisfied: numpy<2.0.0,>1.16.0 in /opt/conda/lib/python3.12/site-packages (from mxnet) (1.26.4)\n",
      "Requirement already satisfied: requests<3,>=2.20.0 in /opt/conda/lib/python3.12/site-packages (from mxnet) (2.32.3)\n",
      "Collecting graphviz<0.9.0,>=0.8.1 (from mxnet)\n",
      "  Downloading graphviz-0.8.4-py2.py3-none-any.whl.metadata (6.4 kB)\n",
      "Requirement already satisfied: charset_normalizer<4,>=2 in /opt/conda/lib/python3.12/site-packages (from requests<3,>=2.20.0->mxnet) (3.4.2)\n",
      "Requirement already satisfied: idna<4,>=2.5 in /opt/conda/lib/python3.12/site-packages (from requests<3,>=2.20.0->mxnet) (3.10)\n",
      "Requirement already satisfied: urllib3<3,>=1.21.1 in /opt/conda/lib/python3.12/site-packages (from requests<3,>=2.20.0->mxnet) (1.26.19)\n",
      "Requirement already satisfied: certifi>=2017.4.17 in /opt/conda/lib/python3.12/site-packages (from requests<3,>=2.20.0->mxnet) (2025.4.26)\n",
      "Downloading mxnet-1.9.1-py3-none-manylinux2014_x86_64.whl (49.1 MB)\n",
      "\u001b[2K   \u001b[90m━━━━━━━━━━━━━━━━━━━━━━━━━━━━━━━━━━━━━━━━\u001b[0m \u001b[32m49.1/49.1 MB\u001b[0m \u001b[31m191.5 MB/s\u001b[0m eta \u001b[36m0:00:00\u001b[0m00:01\u001b[0m\n",
      "\u001b[?25hDownloading graphviz-0.8.4-py2.py3-none-any.whl (16 kB)\n",
      "Installing collected packages: graphviz, mxnet\n",
      "\u001b[2K  Attempting uninstall: graphviz\n",
      "\u001b[2K    Found existing installation: graphviz 0.20.3\n",
      "\u001b[2K    Uninstalling graphviz-0.20.3:\n",
      "\u001b[2K      Successfully uninstalled graphviz-0.20.3\n",
      "\u001b[2K   \u001b[90m━━━━━━━━━━━━━━━━━━━━━━━━━━━━━━━━━━━━━━━━\u001b[0m \u001b[32m2/2\u001b[0m [mxnet]32m1/2\u001b[0m [mxnet]\n",
      "\u001b[1A\u001b[2KSuccessfully installed graphviz-0.8.4 mxnet-1.9.1\n"
     ]
    }
   ],
   "source": [
    "!pip install mxnet"
   ]
  },
  {
   "cell_type": "code",
   "execution_count": 24,
   "id": "dbeba536-cdad-48c3-b4bb-f14b7f6364ce",
   "metadata": {
    "execution": {
     "iopub.execute_input": "2025-07-11T09:09:36.088371Z",
     "iopub.status.busy": "2025-07-11T09:09:36.088049Z",
     "iopub.status.idle": "2025-07-11T09:09:36.091549Z",
     "shell.execute_reply": "2025-07-11T09:09:36.090857Z",
     "shell.execute_reply.started": "2025-07-11T09:09:36.088350Z"
    }
   },
   "outputs": [],
   "source": [
    "import numpy as np\n",
    "np.bool = bool #workaround for mxnet plotting"
   ]
  },
  {
   "cell_type": "code",
   "execution_count": 25,
   "id": "27d3ecb1-4a2b-4184-a0fb-5a9f24ee63a2",
   "metadata": {
    "execution": {
     "iopub.execute_input": "2025-07-11T09:09:36.844512Z",
     "iopub.status.busy": "2025-07-11T09:09:36.844174Z",
     "iopub.status.idle": "2025-07-11T09:09:37.335418Z",
     "shell.execute_reply": "2025-07-11T09:09:37.334783Z",
     "shell.execute_reply.started": "2025-07-11T09:09:36.844492Z"
    }
   },
   "outputs": [
    {
     "name": "stderr",
     "output_type": "stream",
     "text": [
      "[09:09:37] ../src/nnvm/legacy_json_util.cc:208: Loading symbol saved by previous version v1.4.1. Attempting to upgrade...\n",
      "[09:09:37] ../src/nnvm/legacy_json_util.cc:216: Symbol successfully upgraded!\n"
     ]
    }
   ],
   "source": [
    "import mxnet as mx\n",
    "\n",
    "sym, arg_params, aux_params = mx.model.load_checkpoint('./model_dir/image-classification', 5)"
   ]
  },
  {
   "cell_type": "code",
   "execution_count": 31,
   "id": "39913e23-05ad-4de2-a322-7356c5201626",
   "metadata": {
    "execution": {
     "iopub.execute_input": "2025-07-11T09:22:26.150293Z",
     "iopub.status.busy": "2025-07-11T09:22:26.149953Z",
     "iopub.status.idle": "2025-07-11T09:22:26.155149Z",
     "shell.execute_reply": "2025-07-11T09:22:26.154582Z",
     "shell.execute_reply.started": "2025-07-11T09:22:26.150271Z"
    }
   },
   "outputs": [
    {
     "data": {
      "text/plain": [
       "[128, 3, 224, 224]"
      ]
     },
     "execution_count": 31,
     "metadata": {},
     "output_type": "execute_result"
    }
   ],
   "source": [
    "with open('./model_dir/model-shapes.json', 'r') as f:\n",
    "    shape_info = json.load(f)\n",
    "input_shape = shape_info[0]['shape']\n",
    "input_shape"
   ]
  },
  {
   "cell_type": "code",
   "execution_count": 32,
   "id": "7e42e2fe-7ad7-4367-8dac-affcb0c7fa20",
   "metadata": {
    "execution": {
     "iopub.execute_input": "2025-07-11T09:23:07.278019Z",
     "iopub.status.busy": "2025-07-11T09:23:07.277666Z",
     "iopub.status.idle": "2025-07-11T09:23:07.282225Z",
     "shell.execute_reply": "2025-07-11T09:23:07.281675Z",
     "shell.execute_reply.started": "2025-07-11T09:23:07.277997Z"
    }
   },
   "outputs": [
    {
     "data": {
      "text/plain": [
       "[{'name': 'data', 'shape': [128, 3, 224, 224]}]"
      ]
     },
     "execution_count": 32,
     "metadata": {},
     "output_type": "execute_result"
    }
   ],
   "source": [
    "shape_info"
   ]
  },
  {
   "cell_type": "code",
   "execution_count": 33,
   "id": "447ce26b-4458-4089-9ba8-580b345af290",
   "metadata": {
    "execution": {
     "iopub.execute_input": "2025-07-11T09:23:13.698777Z",
     "iopub.status.busy": "2025-07-11T09:23:13.698168Z",
     "iopub.status.idle": "2025-07-11T09:23:14.006731Z",
     "shell.execute_reply": "2025-07-11T09:23:14.006107Z",
     "shell.execute_reply.started": "2025-07-11T09:23:13.698753Z"
    }
   },
   "outputs": [
    {
     "name": "stderr",
     "output_type": "stream",
     "text": [
      "Warning: node 'stage1_unit1_bn1', graph 'plot' size too small for label\n",
      "Warning: node 'stage1_unit1_bn2', graph 'plot' size too small for label\n",
      "Warning: node 'stage1_unit2_bn1', graph 'plot' size too small for label\n",
      "Warning: node 'stage1_unit2_bn2', graph 'plot' size too small for label\n",
      "Warning: node 'stage2_unit1_bn1', graph 'plot' size too small for label\n",
      "Warning: node 'stage2_unit1_bn2', graph 'plot' size too small for label\n",
      "Warning: node 'stage2_unit2_bn1', graph 'plot' size too small for label\n",
      "Warning: node 'stage2_unit2_bn2', graph 'plot' size too small for label\n",
      "Warning: node 'stage3_unit1_bn1', graph 'plot' size too small for label\n",
      "Warning: node 'stage3_unit1_bn2', graph 'plot' size too small for label\n",
      "Warning: node 'stage3_unit2_bn1', graph 'plot' size too small for label\n",
      "Warning: node 'stage3_unit2_bn2', graph 'plot' size too small for label\n",
      "Warning: node 'stage4_unit1_bn1', graph 'plot' size too small for label\n",
      "Warning: node 'stage4_unit1_bn2', graph 'plot' size too small for label\n",
      "Warning: node 'stage4_unit2_bn1', graph 'plot' size too small for label\n",
      "Warning: node 'stage4_unit2_bn2', graph 'plot' size too small for label\n",
      "Warning: node 'fc', graph 'plot' size too small for label\n"
     ]
    },
    {
     "data": {
      "text/plain": [
       "'sg-finetuned-architecture.png'"
      ]
     },
     "execution_count": 33,
     "metadata": {},
     "output_type": "execute_result"
    }
   ],
   "source": [
    "viz = mx.viz.plot_network(\n",
    "    symbol=sym,\n",
    "    shape={'data': tuple(input_shape)}\n",
    ")\n",
    "viz.format = 'png'  # Choose your desired format\n",
    "viz.render('sg-finetuned-architecture')"
   ]
  },
  {
   "cell_type": "code",
   "execution_count": 35,
   "id": "85cb326b-e71a-453d-8a35-18de889a747d",
   "metadata": {
    "execution": {
     "iopub.execute_input": "2025-07-11T09:26:20.627161Z",
     "iopub.status.busy": "2025-07-11T09:26:20.626787Z",
     "iopub.status.idle": "2025-07-11T09:26:20.908579Z",
     "shell.execute_reply": "2025-07-11T09:26:20.907961Z",
     "shell.execute_reply.started": "2025-07-11T09:26:20.627135Z"
    }
   },
   "outputs": [],
   "source": [
    "from PIL import Image\n",
    "\n",
    "img = Image.open('sg-finetuned-architecture.png')\n",
    "flipped_img = img.transpose(Image.FLIP_TOP_BOTTOM)\n",
    "flipped_img.save('sg-finetuned-architecture_flipped.png')\n"
   ]
  },
  {
   "cell_type": "code",
   "execution_count": 36,
   "id": "69c8cfb3-1149-4848-a516-c900e3aeb1ca",
   "metadata": {
    "execution": {
     "iopub.execute_input": "2025-07-11T09:28:19.730976Z",
     "iopub.status.busy": "2025-07-11T09:28:19.730588Z",
     "iopub.status.idle": "2025-07-11T09:28:19.734589Z",
     "shell.execute_reply": "2025-07-11T09:28:19.733960Z",
     "shell.execute_reply.started": "2025-07-11T09:28:19.730950Z"
    }
   },
   "outputs": [
    {
     "name": "stdout",
     "output_type": "stream",
     "text": [
      "1.9.1\n"
     ]
    }
   ],
   "source": [
    "print(mx.__version__)"
   ]
  },
  {
   "cell_type": "code",
   "execution_count": 48,
   "id": "4f3f6091-f04c-4cf4-9b81-666374192c10",
   "metadata": {
    "execution": {
     "iopub.execute_input": "2025-07-11T10:15:11.938264Z",
     "iopub.status.busy": "2025-07-11T10:15:11.937911Z",
     "iopub.status.idle": "2025-07-11T10:15:12.162170Z",
     "shell.execute_reply": "2025-07-11T10:15:12.161648Z",
     "shell.execute_reply.started": "2025-07-11T10:15:11.938239Z"
    }
   },
   "outputs": [
    {
     "name": "stderr",
     "output_type": "stream",
     "text": [
      "[10:15:11] ../src/nnvm/legacy_json_util.cc:208: Loading symbol saved by previous version v1.4.1. Attempting to upgrade...\n",
      "[10:15:11] ../src/nnvm/legacy_json_util.cc:216: Symbol successfully upgraded!\n"
     ]
    },
    {
     "data": {
      "text/plain": [
       "'./model_dir/model_graph.png'"
      ]
     },
     "execution_count": 48,
     "metadata": {},
     "output_type": "execute_result"
    }
   ],
   "source": [
    "# perplexity suggestion\n",
    "symbol_file = './model_dir/image-classification-symbol.json'\n",
    "\n",
    "sym2 = mx.sym.load(symbol_file)\n",
    "graph = mx.viz.plot_network(\n",
    "    symbol = sym2, \n",
    "    shape={'data': (1, 3, 224, 224)},\n",
    "    node_attrs={\n",
    "        \"width\": \"2.0\",         # Width in inches\n",
    "        \"height\": \".5\",        # Height in inches\n",
    "        \"fixedsize\": \"true\",     # Force exact size (optional)\n",
    "        \n",
    "    },\n",
    "    \n",
    ")\n",
    "\n",
    "graph.node_attrs = {\n",
    "    \"fillcolor\": \"lightgray\",\n",
    "}\n",
    "\n",
    "graph.graph_attr={\n",
    "    'rankdir':'BT',\n",
    "    'ranksep': '0.3',  # Reduce spacing between ranks\n",
    "    'nodesep': '0.2',  # Reduce spacing between nodes\n",
    "    'fontsize': '10',           # Smaller font for graph title\n",
    "}\n",
    "graph.format = 'png'\n",
    "graph.render('./model_dir/model_graph')"
   ]
  },
  {
   "cell_type": "code",
   "execution_count": null,
   "id": "85ed6523-8cbb-46ed-9f56-0362ece1a0c8",
   "metadata": {},
   "outputs": [],
   "source": [
    "# Generate Manifest File for Validation and Test Meta CSVs for Evaluation Via Batch Transform\n",
    "generate_manifest_file(s3_input_csv = f\"{s3_validation_path}/{val_key}\", s3_images_loc = f\"s3://{bucket_name}/cct_resized/\")\n",
    "generate_manifest_file(s3_input_csv = f\"{s3_test_path}/{test_key}\", s3_images_loc = f\"s3://{bucket_name}/cct_resized/\")\n"
   ]
  },
  {
   "cell_type": "markdown",
   "id": "618c75c2-fd66-47f0-8fd2-53e935e2d7d9",
   "metadata": {
    "execution": {
     "iopub.execute_input": "2025-06-23T20:09:03.706793Z",
     "iopub.status.busy": "2025-06-23T20:09:03.706414Z",
     "iopub.status.idle": "2025-06-23T20:09:03.718587Z",
     "shell.execute_reply": "2025-06-23T20:09:03.717529Z",
     "shell.execute_reply.started": "2025-06-23T20:09:03.706769Z"
    }
   },
   "source": [
    "-----\n",
    "### Batch Transform Validation Set"
   ]
  },
  {
   "cell_type": "code",
   "execution_count": 6,
   "id": "f9104fa3-47db-4b57-bc71-3ff30d6141cd",
   "metadata": {
    "execution": {
     "iopub.execute_input": "2025-07-14T12:09:52.280096Z",
     "iopub.status.busy": "2025-07-14T12:09:52.279534Z",
     "iopub.status.idle": "2025-07-14T12:09:52.793261Z",
     "shell.execute_reply": "2025-07-14T12:09:52.792708Z",
     "shell.execute_reply.started": "2025-07-14T12:09:52.280074Z"
    }
   },
   "outputs": [
    {
     "name": "stdout",
     "output_type": "stream",
     "text": [
      "File uploaded to s3://aai-590-tmp2/data_split/train_val/validation/val-meta.manifest\n"
     ]
    }
   ],
   "source": [
    "# \n",
    "\n",
    "s3_newdata_dir = f's3://{bucket_name}/{dev_split}/validation'\n",
    "s3_newdata_csv = f'{s3_newdata_dir}/val-meta.csv'\n",
    "generate_manifest_file(s3_input_csv=s3_newdata_csv, s3_images_loc = f\"s3://aai-540-data/cct_resized/\")\n"
   ]
  },
  {
   "cell_type": "code",
   "execution_count": 7,
   "id": "a19dcb68-a3fb-4998-bbd0-0e3af6d3a822",
   "metadata": {
    "execution": {
     "iopub.execute_input": "2025-07-14T12:10:30.314466Z",
     "iopub.status.busy": "2025-07-14T12:10:30.313972Z",
     "iopub.status.idle": "2025-07-14T12:10:30.318533Z",
     "shell.execute_reply": "2025-07-14T12:10:30.317975Z",
     "shell.execute_reply.started": "2025-07-14T12:10:30.314440Z"
    }
   },
   "outputs": [],
   "source": [
    "# Transform the Validation Set First\n",
    "\n",
    "s3_transform_manifest = f\"{s3_newdata_dir}/val-meta.manifest\"\n",
    "s3_transform_out = f\"{s3_newdata_dir}/batch_transform_out\"\n",
    "\n",
    "# initialize Tranformer\n",
    "transformer = Transformer(\n",
    "    model_name = model.name,\n",
    "    instance_count=1,  # Number of instances\n",
    "    instance_type=\"ml.g4dn.xlarge\",  # Instance type\n",
    "    output_path= s3_transform_out,  # Predictions output\n",
    "    max_payload=10,  # Max payload size (MB)\n",
    "    strategy=\"MultiRecord\" , # for faster processing, but in real world, instance type can be ml.m5.xlarge and single record strategy is ok\n",
    "    max_concurrent_transforms=10,\n",
    "    sagemaker_session=sess,\n",
    "\n",
    "    accept = 'txt/csv', # so output is generated in single file\n",
    "    assemble_with='Line', # new line is generated for each prediction\n",
    "\n",
    ")"
   ]
  },
  {
   "cell_type": "code",
   "execution_count": 9,
   "id": "b4b8319b-296c-460c-a444-c676385cddc8",
   "metadata": {
    "execution": {
     "iopub.execute_input": "2025-07-14T12:18:55.788590Z",
     "iopub.status.busy": "2025-07-14T12:18:55.788255Z",
     "iopub.status.idle": "2025-07-14T12:19:12.053175Z",
     "shell.execute_reply": "2025-07-14T12:19:12.052280Z",
     "shell.execute_reply.started": "2025-07-14T12:18:55.788567Z"
    },
    "scrolled": true
   },
   "outputs": [
    {
     "name": "stderr",
     "output_type": "stream",
     "text": [
      "INFO:sagemaker:Creating transform job with name: wildscan-image-classifier-fixed-locs-20-2025-07-14-12-18-55-929\n"
     ]
    },
    {
     "name": "stdout",
     "output_type": "stream",
     "text": [
      "."
     ]
    },
    {
     "data": {
      "text/html": [
       "<pre style=\"white-space:pre;overflow-x:auto;line-height:normal;font-family:Menlo,'DejaVu Sans Mono',consolas,'Courier New',monospace\"><span style=\"color: #ff0000; text-decoration-color: #ff0000\">╭─────────────────────────────── </span><span style=\"color: #ff0000; text-decoration-color: #ff0000; font-weight: bold\">Traceback </span><span style=\"color: #ff7f7f; text-decoration-color: #ff7f7f; font-weight: bold\">(most recent call last)</span><span style=\"color: #ff0000; text-decoration-color: #ff0000\"> ────────────────────────────────╮</span>\n",
       "<span style=\"color: #ff0000; text-decoration-color: #ff0000\">│</span> in &lt;module&gt;:4                                                                                    <span style=\"color: #ff0000; text-decoration-color: #ff0000\">│</span>\n",
       "<span style=\"color: #ff0000; text-decoration-color: #ff0000\">│</span>                                                                                                  <span style=\"color: #ff0000; text-decoration-color: #ff0000\">│</span>\n",
       "<span style=\"color: #ff0000; text-decoration-color: #ff0000\">│</span>   <span style=\"color: #7f7f7f; text-decoration-color: #7f7f7f\"> 1 # Transform the Validation Set</span>                                                              <span style=\"color: #ff0000; text-decoration-color: #ff0000\">│</span>\n",
       "<span style=\"color: #ff0000; text-decoration-color: #ff0000\">│</span>   <span style=\"color: #7f7f7f; text-decoration-color: #7f7f7f\"> 2 </span>                                                                                            <span style=\"color: #ff0000; text-decoration-color: #ff0000\">│</span>\n",
       "<span style=\"color: #ff0000; text-decoration-color: #ff0000\">│</span>   <span style=\"color: #7f7f7f; text-decoration-color: #7f7f7f\"> 3 # batch transform images in manifest file</span>                                                   <span style=\"color: #ff0000; text-decoration-color: #ff0000\">│</span>\n",
       "<span style=\"color: #ff0000; text-decoration-color: #ff0000\">│</span> <span style=\"color: #800000; text-decoration-color: #800000\">❱ </span> 4 <span style=\"font-weight: bold; text-decoration: underline\">transformer.transform(</span>                                                                      <span style=\"color: #ff0000; text-decoration-color: #ff0000\">│</span>\n",
       "<span style=\"color: #ff0000; text-decoration-color: #ff0000\">│</span>   <span style=\"color: #7f7f7f; text-decoration-color: #7f7f7f\"> 5 </span><span style=\"color: #7f7f7f; text-decoration-color: #7f7f7f\">│   </span><span style=\"font-weight: bold; text-decoration: underline\">data=s3_transform_manifest,</span>                                                             <span style=\"color: #ff0000; text-decoration-color: #ff0000\">│</span>\n",
       "<span style=\"color: #ff0000; text-decoration-color: #ff0000\">│</span>   <span style=\"color: #7f7f7f; text-decoration-color: #7f7f7f\"> 6 </span><span style=\"color: #7f7f7f; text-decoration-color: #7f7f7f\">│   </span><span style=\"font-weight: bold; text-decoration: underline\">data_type=</span><span style=\"color: #808000; text-decoration-color: #808000; font-weight: bold; text-decoration: underline\">'ManifestFile'</span><span style=\"font-weight: bold; text-decoration: underline\">, </span><span style=\"color: #7f7f7f; text-decoration-color: #7f7f7f; font-weight: bold; text-decoration: underline\"># provide list of s3uris of objects to be batch transforme</span>    <span style=\"color: #ff0000; text-decoration-color: #ff0000\">│</span>\n",
       "<span style=\"color: #ff0000; text-decoration-color: #ff0000\">│</span>   <span style=\"color: #7f7f7f; text-decoration-color: #7f7f7f\"> 7 </span><span style=\"color: #7f7f7f; text-decoration-color: #7f7f7f\">│   </span><span style=\"font-weight: bold; text-decoration: underline\">content_type=</span><span style=\"color: #808000; text-decoration-color: #808000; font-weight: bold; text-decoration: underline\">'application/x-image'</span><span style=\"font-weight: bold; text-decoration: underline\">, </span>                                                    <span style=\"color: #ff0000; text-decoration-color: #ff0000\">│</span>\n",
       "<span style=\"color: #ff0000; text-decoration-color: #ff0000\">│</span>                                                                                                  <span style=\"color: #ff0000; text-decoration-color: #ff0000\">│</span>\n",
       "<span style=\"color: #ff0000; text-decoration-color: #ff0000\">│</span> <span style=\"color: #7f7f7f; text-decoration-color: #7f7f7f\">/opt/conda/lib/python3.12/site-packages/sagemaker/workflow/</span><span style=\"font-weight: bold\">pipeline_context.py</span>:346 in wrapper    <span style=\"color: #ff0000; text-decoration-color: #ff0000\">│</span>\n",
       "<span style=\"color: #ff0000; text-decoration-color: #ff0000\">│</span>                                                                                                  <span style=\"color: #ff0000; text-decoration-color: #ff0000\">│</span>\n",
       "<span style=\"color: #ff0000; text-decoration-color: #ff0000\">│</span>   <span style=\"color: #7f7f7f; text-decoration-color: #7f7f7f\">343 </span><span style=\"color: #7f7f7f; text-decoration-color: #7f7f7f\">│   │   │   </span>                                                                               <span style=\"color: #ff0000; text-decoration-color: #ff0000\">│</span>\n",
       "<span style=\"color: #ff0000; text-decoration-color: #ff0000\">│</span>   <span style=\"color: #7f7f7f; text-decoration-color: #7f7f7f\">344 </span><span style=\"color: #7f7f7f; text-decoration-color: #7f7f7f\">│   │   │   </span><span style=\"color: #0000ff; text-decoration-color: #0000ff\">return</span> _StepArguments(retrieve_caller_name(self_instance), run_func, *args,    <span style=\"color: #ff0000; text-decoration-color: #ff0000\">│</span>\n",
       "<span style=\"color: #ff0000; text-decoration-color: #ff0000\">│</span>   <span style=\"color: #7f7f7f; text-decoration-color: #7f7f7f\">345 </span><span style=\"color: #7f7f7f; text-decoration-color: #7f7f7f\">│   │   </span>                                                                                   <span style=\"color: #ff0000; text-decoration-color: #ff0000\">│</span>\n",
       "<span style=\"color: #ff0000; text-decoration-color: #ff0000\">│</span> <span style=\"color: #800000; text-decoration-color: #800000\">❱ </span>346 <span style=\"color: #7f7f7f; text-decoration-color: #7f7f7f\">│   │   </span><span style=\"color: #0000ff; text-decoration-color: #0000ff\">return</span> <span style=\"font-weight: bold; text-decoration: underline\">run_func(*args, **kwargs)</span>                                                   <span style=\"color: #ff0000; text-decoration-color: #ff0000\">│</span>\n",
       "<span style=\"color: #ff0000; text-decoration-color: #ff0000\">│</span>   <span style=\"color: #7f7f7f; text-decoration-color: #7f7f7f\">347 </span><span style=\"color: #7f7f7f; text-decoration-color: #7f7f7f\">│   </span>                                                                                       <span style=\"color: #ff0000; text-decoration-color: #ff0000\">│</span>\n",
       "<span style=\"color: #ff0000; text-decoration-color: #ff0000\">│</span>   <span style=\"color: #7f7f7f; text-decoration-color: #7f7f7f\">348 </span><span style=\"color: #7f7f7f; text-decoration-color: #7f7f7f\">│   </span><span style=\"color: #0000ff; text-decoration-color: #0000ff\">return</span> wrapper                                                                         <span style=\"color: #ff0000; text-decoration-color: #ff0000\">│</span>\n",
       "<span style=\"color: #ff0000; text-decoration-color: #ff0000\">│</span>   <span style=\"color: #7f7f7f; text-decoration-color: #7f7f7f\">349 </span>                                                                                           <span style=\"color: #ff0000; text-decoration-color: #ff0000\">│</span>\n",
       "<span style=\"color: #ff0000; text-decoration-color: #ff0000\">│</span>                                                                                                  <span style=\"color: #ff0000; text-decoration-color: #ff0000\">│</span>\n",
       "<span style=\"color: #ff0000; text-decoration-color: #ff0000\">│</span> <span style=\"color: #7f7f7f; text-decoration-color: #7f7f7f\">/opt/conda/lib/python3.12/site-packages/sagemaker/</span><span style=\"font-weight: bold\">transformer.py</span>:318 in transform                <span style=\"color: #ff0000; text-decoration-color: #ff0000\">│</span>\n",
       "<span style=\"color: #ff0000; text-decoration-color: #ff0000\">│</span>                                                                                                  <span style=\"color: #ff0000; text-decoration-color: #ff0000\">│</span>\n",
       "<span style=\"color: #ff0000; text-decoration-color: #ff0000\">│</span>   <span style=\"color: #7f7f7f; text-decoration-color: #7f7f7f\">315 </span><span style=\"color: #7f7f7f; text-decoration-color: #7f7f7f\">│   │   </span>)                                                                                  <span style=\"color: #ff0000; text-decoration-color: #ff0000\">│</span>\n",
       "<span style=\"color: #ff0000; text-decoration-color: #ff0000\">│</span>   <span style=\"color: #7f7f7f; text-decoration-color: #7f7f7f\">316 </span><span style=\"color: #7f7f7f; text-decoration-color: #7f7f7f\">│   │   </span>                                                                                   <span style=\"color: #ff0000; text-decoration-color: #ff0000\">│</span>\n",
       "<span style=\"color: #ff0000; text-decoration-color: #ff0000\">│</span>   <span style=\"color: #7f7f7f; text-decoration-color: #7f7f7f\">317 </span><span style=\"color: #7f7f7f; text-decoration-color: #7f7f7f\">│   │   </span><span style=\"color: #0000ff; text-decoration-color: #0000ff\">if</span> wait:                                                                           <span style=\"color: #ff0000; text-decoration-color: #ff0000\">│</span>\n",
       "<span style=\"color: #ff0000; text-decoration-color: #ff0000\">│</span> <span style=\"color: #800000; text-decoration-color: #800000\">❱ </span>318 <span style=\"color: #7f7f7f; text-decoration-color: #7f7f7f\">│   │   │   </span><span style=\"color: #00ffff; text-decoration-color: #00ffff; font-weight: bold; text-decoration: underline\">self</span><span style=\"font-weight: bold; text-decoration: underline\">.latest_transform_job.wait(logs=logs)</span>                                      <span style=\"color: #ff0000; text-decoration-color: #ff0000\">│</span>\n",
       "<span style=\"color: #ff0000; text-decoration-color: #ff0000\">│</span>   <span style=\"color: #7f7f7f; text-decoration-color: #7f7f7f\">319 </span><span style=\"color: #7f7f7f; text-decoration-color: #7f7f7f\">│   </span>                                                                                       <span style=\"color: #ff0000; text-decoration-color: #ff0000\">│</span>\n",
       "<span style=\"color: #ff0000; text-decoration-color: #ff0000\">│</span>   <span style=\"color: #7f7f7f; text-decoration-color: #7f7f7f\">320 </span><span style=\"color: #7f7f7f; text-decoration-color: #7f7f7f\">│   </span><span style=\"color: #0000ff; text-decoration-color: #0000ff\">def</span><span style=\"color: #808080; text-decoration-color: #808080\"> </span><span style=\"color: #00ff00; text-decoration-color: #00ff00\">transform_with_monitoring</span>(                                                         <span style=\"color: #ff0000; text-decoration-color: #ff0000\">│</span>\n",
       "<span style=\"color: #ff0000; text-decoration-color: #ff0000\">│</span>   <span style=\"color: #7f7f7f; text-decoration-color: #7f7f7f\">321 </span><span style=\"color: #7f7f7f; text-decoration-color: #7f7f7f\">│   │   </span><span style=\"color: #00ffff; text-decoration-color: #00ffff\">self</span>,                                                                              <span style=\"color: #ff0000; text-decoration-color: #ff0000\">│</span>\n",
       "<span style=\"color: #ff0000; text-decoration-color: #ff0000\">│</span>                                                                                                  <span style=\"color: #ff0000; text-decoration-color: #ff0000\">│</span>\n",
       "<span style=\"color: #ff0000; text-decoration-color: #ff0000\">│</span> <span style=\"color: #7f7f7f; text-decoration-color: #7f7f7f\">/opt/conda/lib/python3.12/site-packages/sagemaker/</span><span style=\"font-weight: bold\">transformer.py</span>:686 in wait                     <span style=\"color: #ff0000; text-decoration-color: #ff0000\">│</span>\n",
       "<span style=\"color: #ff0000; text-decoration-color: #ff0000\">│</span>                                                                                                  <span style=\"color: #ff0000; text-decoration-color: #ff0000\">│</span>\n",
       "<span style=\"color: #ff0000; text-decoration-color: #ff0000\">│</span>   <span style=\"color: #7f7f7f; text-decoration-color: #7f7f7f\">683 </span><span style=\"color: #7f7f7f; text-decoration-color: #7f7f7f\">│   </span>                                                                                       <span style=\"color: #ff0000; text-decoration-color: #ff0000\">│</span>\n",
       "<span style=\"color: #ff0000; text-decoration-color: #ff0000\">│</span>   <span style=\"color: #7f7f7f; text-decoration-color: #7f7f7f\">684 </span><span style=\"color: #7f7f7f; text-decoration-color: #7f7f7f\">│   </span><span style=\"color: #0000ff; text-decoration-color: #0000ff\">def</span><span style=\"color: #808080; text-decoration-color: #808080\"> </span><span style=\"color: #00ff00; text-decoration-color: #00ff00\">wait</span>(<span style=\"color: #00ffff; text-decoration-color: #00ffff\">self</span>, logs=<span style=\"color: #0000ff; text-decoration-color: #0000ff\">True</span>):                                                             <span style=\"color: #ff0000; text-decoration-color: #ff0000\">│</span>\n",
       "<span style=\"color: #ff0000; text-decoration-color: #ff0000\">│</span>   <span style=\"color: #7f7f7f; text-decoration-color: #7f7f7f\">685 </span><span style=\"color: #7f7f7f; text-decoration-color: #7f7f7f\">│   │   </span><span style=\"color: #0000ff; text-decoration-color: #0000ff\">if</span> logs:                                                                           <span style=\"color: #ff0000; text-decoration-color: #ff0000\">│</span>\n",
       "<span style=\"color: #ff0000; text-decoration-color: #ff0000\">│</span> <span style=\"color: #800000; text-decoration-color: #800000\">❱ </span>686 <span style=\"color: #7f7f7f; text-decoration-color: #7f7f7f\">│   │   │   </span><span style=\"color: #00ffff; text-decoration-color: #00ffff; font-weight: bold; text-decoration: underline\">self</span><span style=\"font-weight: bold; text-decoration: underline\">.sagemaker_session.logs_for_transform_job(</span><span style=\"color: #00ffff; text-decoration-color: #00ffff; font-weight: bold; text-decoration: underline\">self</span><span style=\"font-weight: bold; text-decoration: underline\">.job_name, wait=</span><span style=\"color: #0000ff; text-decoration-color: #0000ff; font-weight: bold; text-decoration: underline\">True</span><span style=\"font-weight: bold; text-decoration: underline\">)</span>        <span style=\"color: #ff0000; text-decoration-color: #ff0000\">│</span>\n",
       "<span style=\"color: #ff0000; text-decoration-color: #ff0000\">│</span>   <span style=\"color: #7f7f7f; text-decoration-color: #7f7f7f\">687 </span><span style=\"color: #7f7f7f; text-decoration-color: #7f7f7f\">│   │   </span><span style=\"color: #0000ff; text-decoration-color: #0000ff\">else</span>:                                                                              <span style=\"color: #ff0000; text-decoration-color: #ff0000\">│</span>\n",
       "<span style=\"color: #ff0000; text-decoration-color: #ff0000\">│</span>   <span style=\"color: #7f7f7f; text-decoration-color: #7f7f7f\">688 </span><span style=\"color: #7f7f7f; text-decoration-color: #7f7f7f\">│   │   │   </span><span style=\"color: #00ffff; text-decoration-color: #00ffff\">self</span>.sagemaker_session.wait_for_transform_job(<span style=\"color: #00ffff; text-decoration-color: #00ffff\">self</span>.job_name)                   <span style=\"color: #ff0000; text-decoration-color: #ff0000\">│</span>\n",
       "<span style=\"color: #ff0000; text-decoration-color: #ff0000\">│</span>   <span style=\"color: #7f7f7f; text-decoration-color: #7f7f7f\">689 </span>                                                                                           <span style=\"color: #ff0000; text-decoration-color: #ff0000\">│</span>\n",
       "<span style=\"color: #ff0000; text-decoration-color: #ff0000\">│</span>                                                                                                  <span style=\"color: #ff0000; text-decoration-color: #ff0000\">│</span>\n",
       "<span style=\"color: #ff0000; text-decoration-color: #ff0000\">│</span> <span style=\"color: #7f7f7f; text-decoration-color: #7f7f7f\">/opt/conda/lib/python3.12/site-packages/sagemaker/</span><span style=\"font-weight: bold\">session.py</span>:6298 in logs_for_transform_job      <span style=\"color: #ff0000; text-decoration-color: #ff0000\">│</span>\n",
       "<span style=\"color: #ff0000; text-decoration-color: #ff0000\">│</span>                                                                                                  <span style=\"color: #ff0000; text-decoration-color: #ff0000\">│</span>\n",
       "<span style=\"color: #ff0000; text-decoration-color: #ff0000\">│</span>   <span style=\"color: #7f7f7f; text-decoration-color: #7f7f7f\">6295 </span><span style=\"color: #7f7f7f; text-decoration-color: #7f7f7f\">│   │   │   </span><span style=\"color: #0000ff; text-decoration-color: #0000ff\">if</span> state == LogState.COMPLETE:                                                <span style=\"color: #ff0000; text-decoration-color: #ff0000\">│</span>\n",
       "<span style=\"color: #ff0000; text-decoration-color: #ff0000\">│</span>   <span style=\"color: #7f7f7f; text-decoration-color: #7f7f7f\">6296 </span><span style=\"color: #7f7f7f; text-decoration-color: #7f7f7f\">│   │   │   │   </span><span style=\"color: #0000ff; text-decoration-color: #0000ff\">break</span>                                                                     <span style=\"color: #ff0000; text-decoration-color: #ff0000\">│</span>\n",
       "<span style=\"color: #ff0000; text-decoration-color: #ff0000\">│</span>   <span style=\"color: #7f7f7f; text-decoration-color: #7f7f7f\">6297 </span><span style=\"color: #7f7f7f; text-decoration-color: #7f7f7f\">│   │   │   </span>                                                                              <span style=\"color: #ff0000; text-decoration-color: #ff0000\">│</span>\n",
       "<span style=\"color: #ff0000; text-decoration-color: #ff0000\">│</span> <span style=\"color: #800000; text-decoration-color: #800000\">❱ </span>6298 <span style=\"color: #7f7f7f; text-decoration-color: #7f7f7f\">│   │   │   </span><span style=\"font-weight: bold; text-decoration: underline\">time.sleep(poll)</span>                                                              <span style=\"color: #ff0000; text-decoration-color: #ff0000\">│</span>\n",
       "<span style=\"color: #ff0000; text-decoration-color: #ff0000\">│</span>   <span style=\"color: #7f7f7f; text-decoration-color: #7f7f7f\">6299 </span><span style=\"color: #7f7f7f; text-decoration-color: #7f7f7f\">│   │   │   </span>                                                                              <span style=\"color: #ff0000; text-decoration-color: #ff0000\">│</span>\n",
       "<span style=\"color: #ff0000; text-decoration-color: #ff0000\">│</span>   <span style=\"color: #7f7f7f; text-decoration-color: #7f7f7f\">6300 </span><span style=\"color: #7f7f7f; text-decoration-color: #7f7f7f\">│   │   │   </span><span style=\"color: #0000ff; text-decoration-color: #0000ff\">if</span> state == LogState.JOB_COMPLETE:                                            <span style=\"color: #ff0000; text-decoration-color: #ff0000\">│</span>\n",
       "<span style=\"color: #ff0000; text-decoration-color: #ff0000\">│</span>   <span style=\"color: #7f7f7f; text-decoration-color: #7f7f7f\">6301 </span><span style=\"color: #7f7f7f; text-decoration-color: #7f7f7f\">│   │   │   │   </span>state = LogState.COMPLETE                                                 <span style=\"color: #ff0000; text-decoration-color: #ff0000\">│</span>\n",
       "<span style=\"color: #ff0000; text-decoration-color: #ff0000\">╰──────────────────────────────────────────────────────────────────────────────────────────────────╯</span>\n",
       "<span style=\"color: #ff0000; text-decoration-color: #ff0000; font-weight: bold\">KeyboardInterrupt</span>\n",
       "</pre>\n"
      ],
      "text/plain": [
       "\u001b[38;2;255;0;0m╭─\u001b[0m\u001b[38;2;255;0;0m──────────────────────────────\u001b[0m\u001b[38;2;255;0;0m \u001b[0m\u001b[1;38;2;255;0;0mTraceback \u001b[0m\u001b[1;2;38;2;255;0;0m(most recent call last)\u001b[0m\u001b[38;2;255;0;0m \u001b[0m\u001b[38;2;255;0;0m───────────────────────────────\u001b[0m\u001b[38;2;255;0;0m─╮\u001b[0m\n",
       "\u001b[38;2;255;0;0m│\u001b[0m in <module>:4                                                                                    \u001b[38;2;255;0;0m│\u001b[0m\n",
       "\u001b[38;2;255;0;0m│\u001b[0m                                                                                                  \u001b[38;2;255;0;0m│\u001b[0m\n",
       "\u001b[38;2;255;0;0m│\u001b[0m   \u001b[2m 1 \u001b[0m\u001b[2m# Transform the Validation Set\u001b[0m                                                              \u001b[38;2;255;0;0m│\u001b[0m\n",
       "\u001b[38;2;255;0;0m│\u001b[0m   \u001b[2m 2 \u001b[0m                                                                                            \u001b[38;2;255;0;0m│\u001b[0m\n",
       "\u001b[38;2;255;0;0m│\u001b[0m   \u001b[2m 3 \u001b[0m\u001b[2m# batch transform images in manifest file\u001b[0m                                                   \u001b[38;2;255;0;0m│\u001b[0m\n",
       "\u001b[38;2;255;0;0m│\u001b[0m \u001b[31m❱ \u001b[0m 4 \u001b[1;4mtransformer.transform(\u001b[0m                                                                      \u001b[38;2;255;0;0m│\u001b[0m\n",
       "\u001b[38;2;255;0;0m│\u001b[0m   \u001b[2m 5 \u001b[0m\u001b[2m│   \u001b[0m\u001b[1;4mdata=s3_transform_manifest,\u001b[0m                                                             \u001b[38;2;255;0;0m│\u001b[0m\n",
       "\u001b[38;2;255;0;0m│\u001b[0m   \u001b[2m 6 \u001b[0m\u001b[2m│   \u001b[0m\u001b[1;4mdata_type=\u001b[0m\u001b[1;4;33m'\u001b[0m\u001b[1;4;33mManifestFile\u001b[0m\u001b[1;4;33m'\u001b[0m\u001b[1;4m, \u001b[0m\u001b[1;2;4m# provide list of s3uris of objects to be batch transforme\u001b[0m    \u001b[38;2;255;0;0m│\u001b[0m\n",
       "\u001b[38;2;255;0;0m│\u001b[0m   \u001b[2m 7 \u001b[0m\u001b[2m│   \u001b[0m\u001b[1;4mcontent_type=\u001b[0m\u001b[1;4;33m'\u001b[0m\u001b[1;4;33mapplication/x-image\u001b[0m\u001b[1;4;33m'\u001b[0m\u001b[1;4m, \u001b[0m                                                    \u001b[38;2;255;0;0m│\u001b[0m\n",
       "\u001b[38;2;255;0;0m│\u001b[0m                                                                                                  \u001b[38;2;255;0;0m│\u001b[0m\n",
       "\u001b[38;2;255;0;0m│\u001b[0m \u001b[2m/opt/conda/lib/python3.12/site-packages/sagemaker/workflow/\u001b[0m\u001b[1mpipeline_context.py\u001b[0m:346 in wrapper    \u001b[38;2;255;0;0m│\u001b[0m\n",
       "\u001b[38;2;255;0;0m│\u001b[0m                                                                                                  \u001b[38;2;255;0;0m│\u001b[0m\n",
       "\u001b[38;2;255;0;0m│\u001b[0m   \u001b[2m343 \u001b[0m\u001b[2m│   │   │   \u001b[0m                                                                               \u001b[38;2;255;0;0m│\u001b[0m\n",
       "\u001b[38;2;255;0;0m│\u001b[0m   \u001b[2m344 \u001b[0m\u001b[2m│   │   │   \u001b[0m\u001b[94mreturn\u001b[0m _StepArguments(retrieve_caller_name(self_instance), run_func, *args,    \u001b[38;2;255;0;0m│\u001b[0m\n",
       "\u001b[38;2;255;0;0m│\u001b[0m   \u001b[2m345 \u001b[0m\u001b[2m│   │   \u001b[0m                                                                                   \u001b[38;2;255;0;0m│\u001b[0m\n",
       "\u001b[38;2;255;0;0m│\u001b[0m \u001b[31m❱ \u001b[0m346 \u001b[2m│   │   \u001b[0m\u001b[94mreturn\u001b[0m \u001b[1;4mrun_func(*args, **kwargs)\u001b[0m                                                   \u001b[38;2;255;0;0m│\u001b[0m\n",
       "\u001b[38;2;255;0;0m│\u001b[0m   \u001b[2m347 \u001b[0m\u001b[2m│   \u001b[0m                                                                                       \u001b[38;2;255;0;0m│\u001b[0m\n",
       "\u001b[38;2;255;0;0m│\u001b[0m   \u001b[2m348 \u001b[0m\u001b[2m│   \u001b[0m\u001b[94mreturn\u001b[0m wrapper                                                                         \u001b[38;2;255;0;0m│\u001b[0m\n",
       "\u001b[38;2;255;0;0m│\u001b[0m   \u001b[2m349 \u001b[0m                                                                                           \u001b[38;2;255;0;0m│\u001b[0m\n",
       "\u001b[38;2;255;0;0m│\u001b[0m                                                                                                  \u001b[38;2;255;0;0m│\u001b[0m\n",
       "\u001b[38;2;255;0;0m│\u001b[0m \u001b[2m/opt/conda/lib/python3.12/site-packages/sagemaker/\u001b[0m\u001b[1mtransformer.py\u001b[0m:318 in transform                \u001b[38;2;255;0;0m│\u001b[0m\n",
       "\u001b[38;2;255;0;0m│\u001b[0m                                                                                                  \u001b[38;2;255;0;0m│\u001b[0m\n",
       "\u001b[38;2;255;0;0m│\u001b[0m   \u001b[2m315 \u001b[0m\u001b[2m│   │   \u001b[0m)                                                                                  \u001b[38;2;255;0;0m│\u001b[0m\n",
       "\u001b[38;2;255;0;0m│\u001b[0m   \u001b[2m316 \u001b[0m\u001b[2m│   │   \u001b[0m                                                                                   \u001b[38;2;255;0;0m│\u001b[0m\n",
       "\u001b[38;2;255;0;0m│\u001b[0m   \u001b[2m317 \u001b[0m\u001b[2m│   │   \u001b[0m\u001b[94mif\u001b[0m wait:                                                                           \u001b[38;2;255;0;0m│\u001b[0m\n",
       "\u001b[38;2;255;0;0m│\u001b[0m \u001b[31m❱ \u001b[0m318 \u001b[2m│   │   │   \u001b[0m\u001b[1;4;96mself\u001b[0m\u001b[1;4m.latest_transform_job.wait(logs=logs)\u001b[0m                                      \u001b[38;2;255;0;0m│\u001b[0m\n",
       "\u001b[38;2;255;0;0m│\u001b[0m   \u001b[2m319 \u001b[0m\u001b[2m│   \u001b[0m                                                                                       \u001b[38;2;255;0;0m│\u001b[0m\n",
       "\u001b[38;2;255;0;0m│\u001b[0m   \u001b[2m320 \u001b[0m\u001b[2m│   \u001b[0m\u001b[94mdef\u001b[0m\u001b[90m \u001b[0m\u001b[92mtransform_with_monitoring\u001b[0m(                                                         \u001b[38;2;255;0;0m│\u001b[0m\n",
       "\u001b[38;2;255;0;0m│\u001b[0m   \u001b[2m321 \u001b[0m\u001b[2m│   │   \u001b[0m\u001b[96mself\u001b[0m,                                                                              \u001b[38;2;255;0;0m│\u001b[0m\n",
       "\u001b[38;2;255;0;0m│\u001b[0m                                                                                                  \u001b[38;2;255;0;0m│\u001b[0m\n",
       "\u001b[38;2;255;0;0m│\u001b[0m \u001b[2m/opt/conda/lib/python3.12/site-packages/sagemaker/\u001b[0m\u001b[1mtransformer.py\u001b[0m:686 in wait                     \u001b[38;2;255;0;0m│\u001b[0m\n",
       "\u001b[38;2;255;0;0m│\u001b[0m                                                                                                  \u001b[38;2;255;0;0m│\u001b[0m\n",
       "\u001b[38;2;255;0;0m│\u001b[0m   \u001b[2m683 \u001b[0m\u001b[2m│   \u001b[0m                                                                                       \u001b[38;2;255;0;0m│\u001b[0m\n",
       "\u001b[38;2;255;0;0m│\u001b[0m   \u001b[2m684 \u001b[0m\u001b[2m│   \u001b[0m\u001b[94mdef\u001b[0m\u001b[90m \u001b[0m\u001b[92mwait\u001b[0m(\u001b[96mself\u001b[0m, logs=\u001b[94mTrue\u001b[0m):                                                             \u001b[38;2;255;0;0m│\u001b[0m\n",
       "\u001b[38;2;255;0;0m│\u001b[0m   \u001b[2m685 \u001b[0m\u001b[2m│   │   \u001b[0m\u001b[94mif\u001b[0m logs:                                                                           \u001b[38;2;255;0;0m│\u001b[0m\n",
       "\u001b[38;2;255;0;0m│\u001b[0m \u001b[31m❱ \u001b[0m686 \u001b[2m│   │   │   \u001b[0m\u001b[1;4;96mself\u001b[0m\u001b[1;4m.sagemaker_session.logs_for_transform_job(\u001b[0m\u001b[1;4;96mself\u001b[0m\u001b[1;4m.job_name, wait=\u001b[0m\u001b[1;4;94mTrue\u001b[0m\u001b[1;4m)\u001b[0m        \u001b[38;2;255;0;0m│\u001b[0m\n",
       "\u001b[38;2;255;0;0m│\u001b[0m   \u001b[2m687 \u001b[0m\u001b[2m│   │   \u001b[0m\u001b[94melse\u001b[0m:                                                                              \u001b[38;2;255;0;0m│\u001b[0m\n",
       "\u001b[38;2;255;0;0m│\u001b[0m   \u001b[2m688 \u001b[0m\u001b[2m│   │   │   \u001b[0m\u001b[96mself\u001b[0m.sagemaker_session.wait_for_transform_job(\u001b[96mself\u001b[0m.job_name)                   \u001b[38;2;255;0;0m│\u001b[0m\n",
       "\u001b[38;2;255;0;0m│\u001b[0m   \u001b[2m689 \u001b[0m                                                                                           \u001b[38;2;255;0;0m│\u001b[0m\n",
       "\u001b[38;2;255;0;0m│\u001b[0m                                                                                                  \u001b[38;2;255;0;0m│\u001b[0m\n",
       "\u001b[38;2;255;0;0m│\u001b[0m \u001b[2m/opt/conda/lib/python3.12/site-packages/sagemaker/\u001b[0m\u001b[1msession.py\u001b[0m:6298 in logs_for_transform_job      \u001b[38;2;255;0;0m│\u001b[0m\n",
       "\u001b[38;2;255;0;0m│\u001b[0m                                                                                                  \u001b[38;2;255;0;0m│\u001b[0m\n",
       "\u001b[38;2;255;0;0m│\u001b[0m   \u001b[2m6295 \u001b[0m\u001b[2m│   │   │   \u001b[0m\u001b[94mif\u001b[0m state == LogState.COMPLETE:                                                \u001b[38;2;255;0;0m│\u001b[0m\n",
       "\u001b[38;2;255;0;0m│\u001b[0m   \u001b[2m6296 \u001b[0m\u001b[2m│   │   │   │   \u001b[0m\u001b[94mbreak\u001b[0m                                                                     \u001b[38;2;255;0;0m│\u001b[0m\n",
       "\u001b[38;2;255;0;0m│\u001b[0m   \u001b[2m6297 \u001b[0m\u001b[2m│   │   │   \u001b[0m                                                                              \u001b[38;2;255;0;0m│\u001b[0m\n",
       "\u001b[38;2;255;0;0m│\u001b[0m \u001b[31m❱ \u001b[0m6298 \u001b[2m│   │   │   \u001b[0m\u001b[1;4mtime.sleep(poll)\u001b[0m                                                              \u001b[38;2;255;0;0m│\u001b[0m\n",
       "\u001b[38;2;255;0;0m│\u001b[0m   \u001b[2m6299 \u001b[0m\u001b[2m│   │   │   \u001b[0m                                                                              \u001b[38;2;255;0;0m│\u001b[0m\n",
       "\u001b[38;2;255;0;0m│\u001b[0m   \u001b[2m6300 \u001b[0m\u001b[2m│   │   │   \u001b[0m\u001b[94mif\u001b[0m state == LogState.JOB_COMPLETE:                                            \u001b[38;2;255;0;0m│\u001b[0m\n",
       "\u001b[38;2;255;0;0m│\u001b[0m   \u001b[2m6301 \u001b[0m\u001b[2m│   │   │   │   \u001b[0mstate = LogState.COMPLETE                                                 \u001b[38;2;255;0;0m│\u001b[0m\n",
       "\u001b[38;2;255;0;0m╰──────────────────────────────────────────────────────────────────────────────────────────────────╯\u001b[0m\n",
       "\u001b[1;91mKeyboardInterrupt\u001b[0m\n"
      ]
     },
     "metadata": {},
     "output_type": "display_data"
    }
   ],
   "source": [
    "# Transform the Validation Set\n",
    "\n",
    "# batch transform images in manifest file\n",
    "transformer.transform(\n",
    "    data=s3_transform_manifest,\n",
    "    data_type='ManifestFile', # provide list of s3uris of objects to be batch transformed\n",
    "    content_type='application/x-image', \n",
    "    split_type='None', # because each object is an image file to be processed, no splitting needed\n",
    "    logs=True,\n",
    "    wait=True\n",
    ")\n"
   ]
  },
  {
   "cell_type": "code",
   "execution_count": 10,
   "id": "1ce251ba-6140-429f-9b3e-884566b9bf82",
   "metadata": {
    "execution": {
     "iopub.execute_input": "2025-07-14T12:19:36.482074Z",
     "iopub.status.busy": "2025-07-14T12:19:36.481749Z",
     "iopub.status.idle": "2025-07-14T12:19:36.525547Z",
     "shell.execute_reply": "2025-07-14T12:19:36.525035Z",
     "shell.execute_reply.started": "2025-07-14T12:19:36.482052Z"
    }
   },
   "outputs": [
    {
     "name": "stderr",
     "output_type": "stream",
     "text": [
      "INFO:sagemaker.image_uris:Defaulting to only supported image scope: cpu.\n"
     ]
    },
    {
     "name": "stdout",
     "output_type": "stream",
     "text": [
      "683313688378.dkr.ecr.us-east-1.amazonaws.com/sagemaker-scikit-learn:1.2-1-cpu-py3\n"
     ]
    }
   ],
   "source": [
    "# Evaluate the Prediction Results via ScriptProcessing\n",
    "from sagemaker.processing import ScriptProcessor, ProcessingInput, ProcessingOutput\n",
    "\n",
    "image_uri = sagemaker.image_uris.retrieve(\n",
    "    framework='sklearn',        # or 'xgboost', 'pytorch', etc.\n",
    "    region=region,\n",
    "    version='1.2-1',            # Specify the version you need\n",
    "    py_version='py3',           # Specify Python version if required\n",
    "       # Use 'processing' for processing jobs\n",
    ")\n",
    "\n",
    "print(image_uri)\n",
    "\n",
    "# Define your processing container (can use a built-in or custom image)\n",
    "script_processor = ScriptProcessor(\n",
    "    command=['python3'],\n",
    "    image_uri=image_uri,  # e.g., a scikit-learn or custom image\n",
    "    role=role,\n",
    "    instance_count=1,\n",
    "    instance_type='ml.m5.xlarge',\n",
    "    \n",
    ")"
   ]
  },
  {
   "cell_type": "code",
   "execution_count": 11,
   "id": "46e429ec-8968-4027-ab62-100ef0981a36",
   "metadata": {
    "execution": {
     "iopub.execute_input": "2025-07-14T12:20:23.600474Z",
     "iopub.status.busy": "2025-07-14T12:20:23.600138Z",
     "iopub.status.idle": "2025-07-14T12:25:49.102402Z",
     "shell.execute_reply": "2025-07-14T12:25:49.101882Z",
     "shell.execute_reply.started": "2025-07-14T12:20:23.600452Z"
    }
   },
   "outputs": [
    {
     "name": "stderr",
     "output_type": "stream",
     "text": [
      "INFO:sagemaker:Creating processing-job with name sagemaker-scikit-learn-2025-07-14-12-20-23-602\n"
     ]
    },
    {
     "name": "stdout",
     "output_type": "stream",
     "text": [
      "..............\u001b[34m[2025-07-14 12:22:38.490753] Script has started.\u001b[0m\n",
      "\u001b[34mINFO:root:Script has started at 2025-07-14 12:22:38.490787.\u001b[0m\n",
      "\u001b[34mNumber of files in /opt/ml/processing/input_predictions: 6833\u001b[0m\n",
      "\u001b[34mpred probs df shape:(6833, 2)\n",
      " (step 1) pred probs df shape: (6833, 2)\n",
      " (step 2) True Labels data shape: (6833, 15)\n",
      " (step3) Merged data shape : (6833, 16)\n",
      " (step4) Merged data shape with preds: (6833, 18)\n",
      " (step5) METRICS CALCULATION\n",
      " (step5.1) Class-Restricted metrics - Evaluate only on labels available during training\n",
      " (step5.1) class_restriced df shape : (6833, 18)\u001b[0m\n",
      "\u001b[34m/miniconda3/lib/python3.9/site-packages/sklearn/metrics/_classification.py:1344: UndefinedMetricWarning: Precision and F-score are ill-defined and being set to 0.0 in labels with no predicted samples. Use `zero_division` parameter to control this behavior.\n",
      "  _warn_prf(average, modifier, msg_start, len(result))\u001b[0m\n",
      "\u001b[34m/miniconda3/lib/python3.9/site-packages/sklearn/metrics/_classification.py:1344: UndefinedMetricWarning: Precision and F-score are ill-defined and being set to 0.0 in labels with no predicted samples. Use `zero_division` parameter to control this behavior.\n",
      "  _warn_prf(average, modifier, msg_start, len(result))\u001b[0m\n",
      "\u001b[34m/miniconda3/lib/python3.9/site-packages/sklearn/metrics/_classification.py:1344: UndefinedMetricWarning: Precision and F-score are ill-defined and being set to 0.0 in labels with no predicted samples. Use `zero_division` parameter to control this behavior.\n",
      "  _warn_prf(average, modifier, msg_start, len(result))\n",
      "              precision    recall  f1-score   support\n",
      "      badger       0.00      0.00      0.00         4\n",
      "        bird       0.95      0.37      0.53       429\n",
      "      bobcat       0.80      0.70      0.75       355\n",
      "         car       0.89      0.99      0.94       212\n",
      "         cat       0.69      0.88      0.77       897\n",
      "      coyote       0.88      0.81      0.84       862\n",
      "        deer       0.78      0.36      0.49       171\n",
      "         dog       0.79      0.44      0.57       524\n",
      "       empty       0.00      0.00      0.00         6\n",
      "         fox       0.00      0.00      0.00        13\n",
      "      lizard       1.00      0.17      0.29         6\n",
      "     opossum       0.97      0.93      0.95      2073\n",
      "      rabbit       0.90      0.95      0.92       481\n",
      "     raccoon       0.61      0.95      0.74       463\n",
      "      rodent       0.06      1.00      0.11         1\n",
      "       skunk       0.89      0.63      0.74       116\n",
      "    squirrel       0.42      0.90      0.58       220\n",
      "    accuracy                           0.81      6833\n",
      "   macro avg       0.62      0.59      0.54      6833\u001b[0m\n",
      "\u001b[34mweighted avg       0.84      0.81      0.80      6833\n",
      " (step5.2) Novelty Ratio Metric: portion of the new dataset that is unfamiliar to the model given a confidence threshold=0.7\n",
      " (step5.2) novelty ratio : 0.12307917459388262\u001b[0m\n",
      "\u001b[34m/miniconda3/lib/python3.9/site-packages/sklearn/metrics/_classification.py:1344: UndefinedMetricWarning: Precision and F-score are ill-defined and being set to 0.0 in labels with no predicted samples. Use `zero_division` parameter to control this behavior.\n",
      "  _warn_prf(average, modifier, msg_start, len(result))\u001b[0m\n",
      "\u001b[34m/miniconda3/lib/python3.9/site-packages/sklearn/metrics/_classification.py:1344: UndefinedMetricWarning: Precision and F-score are ill-defined and being set to 0.0 in labels with no predicted samples. Use `zero_division` parameter to control this behavior.\n",
      "  _warn_prf(average, modifier, msg_start, len(result))\u001b[0m\n",
      "\u001b[34m/miniconda3/lib/python3.9/site-packages/sklearn/metrics/_classification.py:1344: UndefinedMetricWarning: Precision and F-score are ill-defined and being set to 0.0 in labels with no predicted samples. Use `zero_division` parameter to control this behavior.\n",
      "  _warn_prf(average, modifier, msg_start, len(result))\u001b[0m\n",
      "\u001b[34mDone executing script\u001b[0m\n",
      "\n"
     ]
    }
   ],
   "source": [
    "\n",
    "# Run evaluation script\n",
    "s3_evaluation_out = f\"{s3_newdata_dir}/sc-ig-transfer-learning\"\n",
    "s3_true_meta_uri = s3_newdata_csv\n",
    "\n",
    "script_processor.run(\n",
    "    code='../src/evaluation/evaluate.py',  # Your processing script\n",
    "    inputs=[\n",
    "        # S3 location of batch transform predictions files\n",
    "        ProcessingInput(\n",
    "            source=s3_transform_out,       # S3 bucket with predictions\n",
    "            destination='/opt/ml/processing/input_predictions'        # Where the script will read input\n",
    "        ),\n",
    "        \n",
    "        # S3 location of the ground truth labels for the images in this set\n",
    "        ProcessingInput(\n",
    "            source=s3_true_meta_uri,\n",
    "            destination='/opt/ml/processing/true_labels'\n",
    "        ),\n",
    "\n",
    "        # Label Mapping\n",
    "        ProcessingInput(\n",
    "            source=s3_label_map_uri,\n",
    "            destination='/opt/ml/processing/label_mapping'\n",
    "        )\n",
    "    ],\n",
    "    outputs=[\n",
    "        ProcessingOutput(\n",
    "            source='/opt/ml/processing/output',           # Where the script will write output\n",
    "            destination=s3_evaluation_out    # S3 bucket to store results\n",
    "        )\n",
    "    ]\n",
    ")"
   ]
  },
  {
   "cell_type": "markdown",
   "id": "39fc906e-3d26-451d-8bac-f1a9aa8de74f",
   "metadata": {},
   "source": [
    "-----\n",
    "### Batch Transform Test Set, then Evaluate Performance"
   ]
  },
  {
   "cell_type": "code",
   "execution_count": null,
   "id": "9fab8595-3464-4651-9b9d-111fb001b277",
   "metadata": {},
   "outputs": [],
   "source": [
    "# Transform the Test Set\n",
    "s3_transform_manifest = f\"{s3_test_path}/test-meta.manifest\"\n",
    "s3_transform_out = f\"{s3_test_path}/batch_transform_out\"\n",
    "\n",
    "# initialize Tranformer\n",
    "transformer1 = Transformer(\n",
    "    model_name = model.name,\n",
    "    instance_count=1,  # Number of instances\n",
    "    instance_type=\"ml.g4dn.xlarge\",  # Instance type\n",
    "    output_path= s3_transform_out,  # Predictions output\n",
    "    max_payload=10,  # Max payload size (MB)\n",
    "    strategy=\"MultiRecord\" , # for faster processing, but in real world, instance type can be ml.m5.xlarge and single record strategy is ok\n",
    "    max_concurrent_transforms=10,\n",
    "    sagemaker_session=sess,\n",
    "\n",
    "    accept = 'txt/csv', # so output is generated in single file\n",
    "    assemble_with='Line', # new line is generated for each prediction\n",
    "\n",
    ")\n",
    "\n",
    "# batch transform images in manifest file\n",
    "transformer1.transform(\n",
    "    data=s3_transform_manifest,\n",
    "    data_type='ManifestFile', # provide list of s3uris of objects to be batch transformed\n",
    "    content_type='application/x-image', \n",
    "    split_type='None', # because each object is an image file to be processed, no splitting needed\n",
    "    logs=True,\n",
    "    wait=True\n",
    ")"
   ]
  },
  {
   "cell_type": "code",
   "execution_count": null,
   "id": "4f3cbe1f-4230-4d99-ba35-fe398d370573",
   "metadata": {},
   "outputs": [],
   "source": [
    "# Run Evaluation Script on test set\n",
    "image_uri = sagemaker.image_uris.retrieve(\n",
    "    framework='sklearn',        # or 'xgboost', 'pytorch', etc.\n",
    "    region=region,\n",
    "    version='1.2-1',            # Specify the version you need\n",
    "    py_version='py3',           # Specify Python version if required\n",
    "       # Use 'processing' for processing jobs\n",
    ")\n",
    "print(image_uri)\n",
    "# Define your processing container (can use a built-in or custom image)\n",
    "script_processor1 = ScriptProcessor(\n",
    "    command=['python3'],\n",
    "    image_uri=image_uri,  # e.g., a scikit-learn or custom image\n",
    "    role=role,\n",
    "    instance_count=1,\n",
    "    instance_type='ml.m5.xlarge',\n",
    "    \n",
    ")\n",
    "\n",
    "# Run the processing job on the validation prediction set\n",
    "s3_evaluation_out = f\"{s3_test_path}/evaluation\"\n",
    "s3_true_meta_uri = f\"{s3_test_path}/{test_key}\"\n",
    "\n",
    "script_processor1.run(\n",
    "    code='../src/evaluation/evaluate.py',  # Your processing script\n",
    "    inputs=[\n",
    "        # S3 location of batch transform predictions files\n",
    "        ProcessingInput(\n",
    "            source=s3_transform_out,       # S3 bucket with predictions\n",
    "            destination='/opt/ml/processing/input_predictions'        # Where the script will read input in local container\n",
    "        ),\n",
    "        \n",
    "        # S3 location of the ground truth labels for the images in this set\n",
    "        ProcessingInput(\n",
    "            source=s3_true_meta_uri,\n",
    "            destination='/opt/ml/processing/true_labels'\n",
    "        ),\n",
    "\n",
    "        # Label Mapping\n",
    "        ProcessingInput(\n",
    "            source=s3_label_map_uri,\n",
    "            destination='/opt/ml/processing/label_mapping'\n",
    "        )\n",
    "    ],\n",
    "    outputs=[\n",
    "        ProcessingOutput(\n",
    "            source='/opt/ml/processing/output',           # Where the script will write output files in local container\n",
    "            destination=s3_evaluation_out    # S3 bucket to store results\n",
    "        )\n",
    "    ]\n",
    ")"
   ]
  },
  {
   "cell_type": "code",
   "execution_count": null,
   "id": "b17af79f-9f4f-4360-8964-3c3fc10f2172",
   "metadata": {},
   "outputs": [],
   "source": []
  }
 ],
 "metadata": {
  "kernelspec": {
   "display_name": "Python 3 (ipykernel)",
   "language": "python",
   "name": "python3"
  },
  "language_info": {
   "codemirror_mode": {
    "name": "ipython",
    "version": 3
   },
   "file_extension": ".py",
   "mimetype": "text/x-python",
   "name": "python",
   "nbconvert_exporter": "python",
   "pygments_lexer": "ipython3",
   "version": "3.12.9"
  }
 },
 "nbformat": 4,
 "nbformat_minor": 5
}
