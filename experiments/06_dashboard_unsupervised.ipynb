{
 "cells": [
  {
   "cell_type": "markdown",
   "id": "24c662ee-4354-4e92-aca9-7e35b3b0d732",
   "metadata": {},
   "source": [
    "# (06) Dashboard Unsupervised"
   ]
  },
  {
   "cell_type": "code",
   "execution_count": 1,
   "id": "3827d23e-3a7b-4501-bfe4-a5bd901cfab6",
   "metadata": {
    "execution": {
     "iopub.execute_input": "2025-07-16T03:23:37.370727Z",
     "iopub.status.busy": "2025-07-16T03:23:37.370403Z",
     "iopub.status.idle": "2025-07-16T03:23:39.331675Z",
     "shell.execute_reply": "2025-07-16T03:23:39.330012Z",
     "shell.execute_reply.started": "2025-07-16T03:23:37.370703Z"
    }
   },
   "outputs": [
    {
     "name": "stdout",
     "output_type": "stream",
     "text": [
      "sagemaker.config INFO - Not applying SDK defaults from location: /etc/xdg/sagemaker/config.yaml\n",
      "sagemaker.config INFO - Not applying SDK defaults from location: /home/sagemaker-user/.config/sagemaker/config.yaml\n"
     ]
    }
   ],
   "source": [
    "import boto3\n",
    "import sagemaker\n",
    "from sagemaker import get_execution_role\n",
    "import pandas as pd\n",
    "from datetime import datetime\n",
    "\n",
    "role = get_execution_role()\n",
    "\n",
    "region = boto3.Session().region_name\n",
    "\n",
    "s3_client = boto3.client(\"s3\")\n",
    "sm_client = boto3.client(\"sagemaker\")"
   ]
  },
  {
   "cell_type": "code",
   "execution_count": 2,
   "id": "9c1917c7-c25f-478a-ab75-c33710f1f7ab",
   "metadata": {
    "execution": {
     "iopub.execute_input": "2025-07-16T03:27:58.610267Z",
     "iopub.status.busy": "2025-07-16T03:27:58.609711Z",
     "iopub.status.idle": "2025-07-16T03:27:58.613224Z",
     "shell.execute_reply": "2025-07-16T03:27:58.612609Z",
     "shell.execute_reply.started": "2025-07-16T03:27:58.610239Z"
    }
   },
   "outputs": [],
   "source": [
    "# download pred proba and li\n",
    "\n",
    "s3_merged_inferences = \"s3://aai-590-tmp2/data_split/train_val/validation2/evaluation/merged_inferences.csv\"\n",
    "s3_label_map_uri = f\"s3://aai-590-tmp2/data_split/train_val/label_mapping.json\""
   ]
  },
  {
   "cell_type": "code",
   "execution_count": 3,
   "id": "bce14433-b708-4070-978b-92b289e6f456",
   "metadata": {
    "execution": {
     "iopub.execute_input": "2025-07-16T03:29:28.147793Z",
     "iopub.status.busy": "2025-07-16T03:29:28.147467Z",
     "iopub.status.idle": "2025-07-16T03:29:28.873762Z",
     "shell.execute_reply": "2025-07-16T03:29:28.873272Z",
     "shell.execute_reply.started": "2025-07-16T03:29:28.147769Z"
    }
   },
   "outputs": [],
   "source": [
    "# download the label map and pred probas\n",
    "merged_inferences_pd = pd.read_csv(s3_merged_inferences)\n",
    "label2idx = pd.read_json(s3_label_map_uri, typ=\"series\").to_dict()"
   ]
  },
  {
   "cell_type": "code",
   "execution_count": 9,
   "id": "e87ed965-e06c-4996-8fbc-07653182dec7",
   "metadata": {
    "execution": {
     "iopub.execute_input": "2025-07-16T03:33:35.168636Z",
     "iopub.status.busy": "2025-07-16T03:33:35.168304Z",
     "iopub.status.idle": "2025-07-16T03:33:35.172845Z",
     "shell.execute_reply": "2025-07-16T03:33:35.172292Z",
     "shell.execute_reply.started": "2025-07-16T03:33:35.168613Z"
    }
   },
   "outputs": [
    {
     "data": {
      "text/plain": [
       "{0: 'car',\n",
       " 1: 'coyote',\n",
       " 2: 'deer',\n",
       " 3: 'bobcat',\n",
       " 4: 'dog',\n",
       " 5: 'skunk',\n",
       " 6: 'empty',\n",
       " 7: 'cat',\n",
       " 8: 'opossum',\n",
       " 9: 'squirrel',\n",
       " 10: 'raccoon',\n",
       " 11: 'rodent',\n",
       " 12: 'rabbit',\n",
       " 13: 'bird',\n",
       " 14: 'badger',\n",
       " 15: 'fox',\n",
       " 16: 'lizard'}"
      ]
     },
     "execution_count": 9,
     "metadata": {},
     "output_type": "execute_result"
    }
   ],
   "source": [
    "idx2label = {int(label2idx[i]):i for i in label2idx.keys()}\n",
    "idx2label"
   ]
  },
  {
   "cell_type": "code",
   "execution_count": 10,
   "id": "dfd41c2d-67bc-4bbe-8b55-d0aba0c3098b",
   "metadata": {
    "execution": {
     "iopub.execute_input": "2025-07-16T03:35:18.899377Z",
     "iopub.status.busy": "2025-07-16T03:35:18.898851Z",
     "iopub.status.idle": "2025-07-16T03:35:18.914235Z",
     "shell.execute_reply": "2025-07-16T03:35:18.913712Z",
     "shell.execute_reply.started": "2025-07-16T03:35:18.899354Z"
    }
   },
   "outputs": [
    {
     "data": {
      "text/html": [
       "<div>\n",
       "<style scoped>\n",
       "    .dataframe tbody tr th:only-of-type {\n",
       "        vertical-align: middle;\n",
       "    }\n",
       "\n",
       "    .dataframe tbody tr th {\n",
       "        vertical-align: top;\n",
       "    }\n",
       "\n",
       "    .dataframe thead th {\n",
       "        text-align: right;\n",
       "    }\n",
       "</style>\n",
       "<table border=\"1\" class=\"dataframe\">\n",
       "  <thead>\n",
       "    <tr style=\"text-align: right;\">\n",
       "      <th></th>\n",
       "      <th>Unnamed: 0</th>\n",
       "      <th>filename</th>\n",
       "      <th>prediction</th>\n",
       "      <th>label</th>\n",
       "      <th>category_id</th>\n",
       "      <th>bbox</th>\n",
       "      <th>image_id</th>\n",
       "      <th>location</th>\n",
       "      <th>split_type</th>\n",
       "      <th>date_captured</th>\n",
       "      <th>year_month</th>\n",
       "      <th>minute_of_day</th>\n",
       "      <th>day_of_year</th>\n",
       "      <th>minOfDay_sin</th>\n",
       "      <th>minOfDay_cos</th>\n",
       "      <th>dayOfYear_sin</th>\n",
       "      <th>dayOfYear_cos</th>\n",
       "      <th>pred_label_enc</th>\n",
       "      <th>pred_label</th>\n",
       "      <th>max_pred_prob</th>\n",
       "    </tr>\n",
       "  </thead>\n",
       "  <tbody>\n",
       "    <tr>\n",
       "      <th>0</th>\n",
       "      <td>0</td>\n",
       "      <td>59be3eaf-23d2-11e8-a6a3-ec086b02610b_0.jpg</td>\n",
       "      <td>[0.011848283000290002, 0.005372683517634, 0.00...</td>\n",
       "      <td>bobcat</td>\n",
       "      <td>6</td>\n",
       "      <td>[5.12, 122.88, 1244.16, 1359.36]</td>\n",
       "      <td>59be3eaf-23d2-11e8-a6a3-ec086b02610b</td>\n",
       "      <td>61</td>\n",
       "      <td>train</td>\n",
       "      <td>2013-02-11 19:00:57</td>\n",
       "      <td>2013-02</td>\n",
       "      <td>1140.0</td>\n",
       "      <td>42.0</td>\n",
       "      <td>-0.965926</td>\n",
       "      <td>0.258819</td>\n",
       "      <td>0.661635</td>\n",
       "      <td>0.749826</td>\n",
       "      <td>3</td>\n",
       "      <td>bobcat</td>\n",
       "      <td>0.949937</td>\n",
       "    </tr>\n",
       "    <tr>\n",
       "      <th>1</th>\n",
       "      <td>1</td>\n",
       "      <td>5a07cc20-23d2-11e8-a6a3-ec086b02610b_0.jpg</td>\n",
       "      <td>[6.33745358413762e-08, 3.704282747207799e-08, ...</td>\n",
       "      <td>opossum</td>\n",
       "      <td>1</td>\n",
       "      <td>[1763.1519775391, 862.2836303711, 220.84802246...</td>\n",
       "      <td>5a07cc20-23d2-11e8-a6a3-ec086b02610b</td>\n",
       "      <td>24</td>\n",
       "      <td>train</td>\n",
       "      <td>2012-04-27 01:57:43</td>\n",
       "      <td>2012-04</td>\n",
       "      <td>117.0</td>\n",
       "      <td>118.0</td>\n",
       "      <td>0.488621</td>\n",
       "      <td>0.872496</td>\n",
       "      <td>0.895839</td>\n",
       "      <td>-0.444378</td>\n",
       "      <td>8</td>\n",
       "      <td>opossum</td>\n",
       "      <td>0.999996</td>\n",
       "    </tr>\n",
       "    <tr>\n",
       "      <th>2</th>\n",
       "      <td>2</td>\n",
       "      <td>5971fb7f-23d2-11e8-a6a3-ec086b02610b_0.jpg</td>\n",
       "      <td>[1.9673431178417192e-14, 4.767381014194246e-17...</td>\n",
       "      <td>opossum</td>\n",
       "      <td>1</td>\n",
       "      <td>[1474.56, 632.32, 371.2, 235.52]</td>\n",
       "      <td>5971fb7f-23d2-11e8-a6a3-ec086b02610b</td>\n",
       "      <td>38</td>\n",
       "      <td>train</td>\n",
       "      <td>2012-06-11 20:22:22</td>\n",
       "      <td>2012-06</td>\n",
       "      <td>1222.0</td>\n",
       "      <td>163.0</td>\n",
       "      <td>-0.814116</td>\n",
       "      <td>0.580703</td>\n",
       "      <td>0.329408</td>\n",
       "      <td>-0.944188</td>\n",
       "      <td>8</td>\n",
       "      <td>opossum</td>\n",
       "      <td>1.000000</td>\n",
       "    </tr>\n",
       "    <tr>\n",
       "      <th>3</th>\n",
       "      <td>3</td>\n",
       "      <td>59edef9c-23d2-11e8-a6a3-ec086b02610b_0.jpg</td>\n",
       "      <td>[3.447257995503605e-06, 0.000163651013281, 5.3...</td>\n",
       "      <td>opossum</td>\n",
       "      <td>1</td>\n",
       "      <td>[307.2, 765.44, 435.2, 230.4]</td>\n",
       "      <td>59edef9c-23d2-11e8-a6a3-ec086b02610b</td>\n",
       "      <td>38</td>\n",
       "      <td>train</td>\n",
       "      <td>2012-04-16 23:24:51</td>\n",
       "      <td>2012-04</td>\n",
       "      <td>1404.0</td>\n",
       "      <td>107.0</td>\n",
       "      <td>-0.156434</td>\n",
       "      <td>0.987688</td>\n",
       "      <td>0.963471</td>\n",
       "      <td>-0.267814</td>\n",
       "      <td>8</td>\n",
       "      <td>opossum</td>\n",
       "      <td>0.964972</td>\n",
       "    </tr>\n",
       "    <tr>\n",
       "      <th>4</th>\n",
       "      <td>4</td>\n",
       "      <td>59849691-23d2-11e8-a6a3-ec086b02610b_2.jpg</td>\n",
       "      <td>[0.001230833004228, 9.84221260296181e-05, 0.00...</td>\n",
       "      <td>bird</td>\n",
       "      <td>11</td>\n",
       "      <td>[1359.36, 652.8, 69.12, 97.28]</td>\n",
       "      <td>59849691-23d2-11e8-a6a3-ec086b02610b</td>\n",
       "      <td>61</td>\n",
       "      <td>train</td>\n",
       "      <td>2013-02-15 09:32:31</td>\n",
       "      <td>2013-02</td>\n",
       "      <td>572.0</td>\n",
       "      <td>46.0</td>\n",
       "      <td>0.601815</td>\n",
       "      <td>-0.798636</td>\n",
       "      <td>0.711657</td>\n",
       "      <td>0.702527</td>\n",
       "      <td>13</td>\n",
       "      <td>bird</td>\n",
       "      <td>0.410181</td>\n",
       "    </tr>\n",
       "  </tbody>\n",
       "</table>\n",
       "</div>"
      ],
      "text/plain": [
       "   Unnamed: 0                                    filename  \\\n",
       "0           0  59be3eaf-23d2-11e8-a6a3-ec086b02610b_0.jpg   \n",
       "1           1  5a07cc20-23d2-11e8-a6a3-ec086b02610b_0.jpg   \n",
       "2           2  5971fb7f-23d2-11e8-a6a3-ec086b02610b_0.jpg   \n",
       "3           3  59edef9c-23d2-11e8-a6a3-ec086b02610b_0.jpg   \n",
       "4           4  59849691-23d2-11e8-a6a3-ec086b02610b_2.jpg   \n",
       "\n",
       "                                          prediction    label  category_id  \\\n",
       "0  [0.011848283000290002, 0.005372683517634, 0.00...   bobcat            6   \n",
       "1  [6.33745358413762e-08, 3.704282747207799e-08, ...  opossum            1   \n",
       "2  [1.9673431178417192e-14, 4.767381014194246e-17...  opossum            1   \n",
       "3  [3.447257995503605e-06, 0.000163651013281, 5.3...  opossum            1   \n",
       "4  [0.001230833004228, 9.84221260296181e-05, 0.00...     bird           11   \n",
       "\n",
       "                                                bbox  \\\n",
       "0                   [5.12, 122.88, 1244.16, 1359.36]   \n",
       "1  [1763.1519775391, 862.2836303711, 220.84802246...   \n",
       "2                   [1474.56, 632.32, 371.2, 235.52]   \n",
       "3                      [307.2, 765.44, 435.2, 230.4]   \n",
       "4                     [1359.36, 652.8, 69.12, 97.28]   \n",
       "\n",
       "                               image_id  location split_type  \\\n",
       "0  59be3eaf-23d2-11e8-a6a3-ec086b02610b        61      train   \n",
       "1  5a07cc20-23d2-11e8-a6a3-ec086b02610b        24      train   \n",
       "2  5971fb7f-23d2-11e8-a6a3-ec086b02610b        38      train   \n",
       "3  59edef9c-23d2-11e8-a6a3-ec086b02610b        38      train   \n",
       "4  59849691-23d2-11e8-a6a3-ec086b02610b        61      train   \n",
       "\n",
       "         date_captured year_month  minute_of_day  day_of_year  minOfDay_sin  \\\n",
       "0  2013-02-11 19:00:57    2013-02         1140.0         42.0     -0.965926   \n",
       "1  2012-04-27 01:57:43    2012-04          117.0        118.0      0.488621   \n",
       "2  2012-06-11 20:22:22    2012-06         1222.0        163.0     -0.814116   \n",
       "3  2012-04-16 23:24:51    2012-04         1404.0        107.0     -0.156434   \n",
       "4  2013-02-15 09:32:31    2013-02          572.0         46.0      0.601815   \n",
       "\n",
       "   minOfDay_cos  dayOfYear_sin  dayOfYear_cos  pred_label_enc pred_label  \\\n",
       "0      0.258819       0.661635       0.749826               3     bobcat   \n",
       "1      0.872496       0.895839      -0.444378               8    opossum   \n",
       "2      0.580703       0.329408      -0.944188               8    opossum   \n",
       "3      0.987688       0.963471      -0.267814               8    opossum   \n",
       "4     -0.798636       0.711657       0.702527              13       bird   \n",
       "\n",
       "   max_pred_prob  \n",
       "0       0.949937  \n",
       "1       0.999996  \n",
       "2       1.000000  \n",
       "3       0.964972  \n",
       "4       0.410181  "
      ]
     },
     "execution_count": 10,
     "metadata": {},
     "output_type": "execute_result"
    }
   ],
   "source": [
    "merged_inferences_pd.head()"
   ]
  },
  {
   "cell_type": "markdown",
   "id": "79e12b79-d806-4246-ac6c-996177ecd43b",
   "metadata": {},
   "source": [
    "## 6.1 Prediction Confidence Distribution"
   ]
  },
  {
   "cell_type": "code",
   "execution_count": null,
   "id": "f7e3a536-9303-43e9-9a17-5e5cc7efeeb8",
   "metadata": {},
   "outputs": [],
   "source": [
    "import numpy as np\n",
    "import matplotlib.pyplot as plt\n",
    "import seaborn as sns\n",
    "\n",
    "# Example: Simulated model prediction confidences (probabilities for the predicted class)\n",
    "# In practice, replace with: model.predict_proba(X) or model(X) for your test set\n",
    "np.random.seed(0)\n",
    "confidences = np.random.beta(2, 5, size=1000)  # Simulated confidence scores (0 to 1)\n",
    "\n",
    "# Plot histogram of confidence scores\n",
    "plt.figure(figsize=(8, 5))\n",
    "sns.histplot(confidences, bins=20, kde=True, color=\"dodgerblue\")\n",
    "plt.title(\"Prediction Confidence Distribution\")\n",
    "plt.xlabel(\"Confidence Score\")\n",
    "plt.ylabel(\"Frequency\")\n",
    "plt.show()"
   ]
  }
 ],
 "metadata": {
  "kernelspec": {
   "display_name": "Python 3 (ipykernel)",
   "language": "python",
   "name": "python3"
  },
  "language_info": {
   "codemirror_mode": {
    "name": "ipython",
    "version": 3
   },
   "file_extension": ".py",
   "mimetype": "text/x-python",
   "name": "python",
   "nbconvert_exporter": "python",
   "pygments_lexer": "ipython3",
   "version": "3.12.9"
  }
 },
 "nbformat": 4,
 "nbformat_minor": 5
}
